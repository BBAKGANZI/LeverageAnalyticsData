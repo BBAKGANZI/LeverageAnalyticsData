{
 "cells": [
  {
   "cell_type": "code",
   "execution_count": 1,
   "source": [
    "# 미션\r\n",
    "\r\n",
    "# 메모리관리는 다양한 방법이 있음. 아래에는 간단하게 모든 변수리스트에서 기본적으로 제공하는 _접두사가 있는 변수만 제외하고 제거하는\r\n",
    "\r\n",
    "# 메모리의 모든 자료를 제거하는 정답은 아님.\r\n",
    "\r\n",
    "all = [var for var in globals() if var[0] != \"_\"]       # globals()의 목록의 첫글자가 _로 시작하지 않는 자료의 리스트만 가져와서\r\n",
    "for var in all:\r\n",
    "    del globals()[var]      # _로 시작하지 않는 모든 자료를 삭제함"
   ],
   "outputs": [],
   "metadata": {}
  },
  {
   "cell_type": "code",
   "execution_count": null,
   "source": [
    "# wine의 데이터셋의 이해\r\n",
    "# 레드와인\r\n",
    "# 화이트와인의 차이점\r\n",
    "\r\n",
    "# alcohol\r\n",
    "# sugar\r\n",
    "# PH: 산도\r\n",
    "\r\n",
    "# class변수는 y변수, 1이면 white wine, 0이면 red wine"
   ],
   "outputs": [],
   "metadata": {}
  },
  {
   "cell_type": "code",
   "execution_count": 8,
   "source": [
    "# 자료 불러오기\r\n",
    "\r\n",
    "import pandas as pd\r\n",
    "# pd.read_csv('wine1.csv')\r\n",
    "\r\n",
    "from glob import glob\r\n",
    "wine1=pd.read_csv(glob('./data/w*.csv')[0], sep='\\t')        # w로 시작하는 .csv 파일\r\n",
    "wine2=pd.read_csv(glob('./data/w*.csv')[1], sep='\\t')\r\n",
    "\r\n",
    "print(wine1.head())\r\n",
    "\r\n",
    "print(wine2.head())"
   ],
   "outputs": [
    {
     "output_type": "stream",
     "name": "stdout",
     "text": [
      "   index  alcohol  class\n",
      "0   7001     9.90  999.0\n",
      "1      1     9.40    0.0\n",
      "2      2     9.80    0.0\n",
      "3      3     9.99  999.0\n",
      "4   6498     9.80    0.0\n",
      "   index  sugar_PH\n",
      "0   7000   2.3/3.5\n",
      "1      1  1.9/3.51\n",
      "2      2   2.6/3.2\n",
      "3   6498  2.3/3.26\n",
      "4      4  1.9/3.16\n"
     ]
    }
   ],
   "metadata": {}
  },
  {
   "cell_type": "code",
   "execution_count": null,
   "source": [
    "# 미션\r\n",
    "\r\n",
    "# 두자료의 교집합 자료만 보기 데이콘 경진대회 교재 p216참조\r\n",
    "# wine1과 wine2의 index 필드값이 같은 자료만 가져오기\r\n",
    "# 최종 wine변수에 할당\r\n",
    "# wine['class']의 최대값1, 최소값 0 확인(max, min함수로 출력)\r\n",
    "\r\n",
    "# 새로운 인덱스의 교집합\r\n",
    "intersection_idx = list(set(wine1['index']).intersection(wine2['index']))\r\n",
    "\r\n",
    "# 교집합에 존재하는 데이터만 불러오기\r\n",
    "wine = wine1.loc[\r\n",
    "    wine['index'].apply(lambda x: x in intersection_idx)].copy()\r\n",
    "\r\n",
    "wine = wine.sort_values(by='index').reset_index(drop=True)\r\n",
    "wine['class'].min(), wine['class'].max()\r\n",
    "\r\n",
    "print(wine.info())\r\n",
    "print(wine.head(20))"
   ],
   "outputs": [],
   "metadata": {}
  },
  {
   "cell_type": "code",
   "execution_count": 18,
   "source": [
    "# 미션\r\n",
    "# wine자료와 wine2자료를 연결하여서\r\n",
    "# wine의 index번호에 해당하는\r\n",
    "# wine2자료의 sugar_PH값 가져와 df 데이터셋 제작\r\n",
    "# df 데이터셋의 sugar_PH의 값 분리하여\r\n",
    "# df['sugar'] df['PH']변수로 작성\r\n",
    "\r\n",
    "# merge로 두 데이터 조인\r\n",
    "# df=pd.merge(wine, wine1)        # 별도의 wine작업 데이터가 있어야함\r\n",
    "df=pd.merge(wine1, wine2)       # 별도의 교집합 작업이 없어도 됨\r\n",
    "\r\n",
    "df.info()\r\n"
   ],
   "outputs": [
    {
     "output_type": "stream",
     "name": "stdout",
     "text": [
      "<class 'pandas.core.frame.DataFrame'>\n",
      "Int64Index: 6497 entries, 0 to 6496\n",
      "Data columns (total 4 columns):\n",
      " #   Column    Non-Null Count  Dtype  \n",
      "---  ------    --------------  -----  \n",
      " 0   index     6497 non-null   int64  \n",
      " 1   alcohol   6497 non-null   float64\n",
      " 2   class     6493 non-null   float64\n",
      " 3   sugar_PH  6497 non-null   object \n",
      "dtypes: float64(2), int64(1), object(1)\n",
      "memory usage: 253.8+ KB\n"
     ]
    }
   ],
   "metadata": {}
  },
  {
   "cell_type": "code",
   "execution_count": 21,
   "source": [
    "# 파이썬 컴프리헨션(압축기법)\r\n",
    "df['sugar']=[x.split('/')[0] if pd.notnull(x) else x for x in tmp['sugar_PH']]\r\n",
    "df['PH']=[x.split('/')[1] if pd.notnull(x) else x for x in tmp['sugar_PH']]\r\n",
    "\r\n",
    "# df['sugar']=df['sugar_PH'].apply(\r\n",
    "#    lambda x: x.split('/')[0] if pd.notnull(x) else x)\r\n",
    "\r\n",
    "#df['PH']=df['sugar_PH'].apply(\r\n",
    "#    lambda x: x.split('/')[1] if pd.notnull(x) else x)\r\n",
    "\r\n",
    "df.info()"
   ],
   "outputs": [
    {
     "output_type": "stream",
     "name": "stdout",
     "text": [
      "<class 'pandas.core.frame.DataFrame'>\n",
      "Int64Index: 6497 entries, 0 to 6496\n",
      "Data columns (total 6 columns):\n",
      " #   Column    Non-Null Count  Dtype  \n",
      "---  ------    --------------  -----  \n",
      " 0   index     6497 non-null   int64  \n",
      " 1   alcohol   6497 non-null   float64\n",
      " 2   class     6493 non-null   float64\n",
      " 3   sugar_PH  6497 non-null   object \n",
      " 4   sugar     6497 non-null   object \n",
      " 5   PH        6497 non-null   object \n",
      "dtypes: float64(2), int64(1), object(3)\n",
      "memory usage: 355.3+ KB\n"
     ]
    }
   ],
   "metadata": {}
  },
  {
   "cell_type": "code",
   "execution_count": 22,
   "source": [
    "sugar=[];PH=[]\r\n",
    "for x in df['sugar_PH']:\r\n",
    "    if pd.notnull(x):\r\n",
    "        sugar.append(x.split('/')[0])\r\n",
    "        PH.append(x.split('/')[1])\r\n",
    "\r\n",
    "df['sugar']=sugar\r\n",
    "df.head()"
   ],
   "outputs": [
    {
     "output_type": "execute_result",
     "data": {
      "text/html": [
       "<div>\n",
       "<style scoped>\n",
       "    .dataframe tbody tr th:only-of-type {\n",
       "        vertical-align: middle;\n",
       "    }\n",
       "\n",
       "    .dataframe tbody tr th {\n",
       "        vertical-align: top;\n",
       "    }\n",
       "\n",
       "    .dataframe thead th {\n",
       "        text-align: right;\n",
       "    }\n",
       "</style>\n",
       "<table border=\"1\" class=\"dataframe\">\n",
       "  <thead>\n",
       "    <tr style=\"text-align: right;\">\n",
       "      <th></th>\n",
       "      <th>index</th>\n",
       "      <th>alcohol</th>\n",
       "      <th>class</th>\n",
       "      <th>sugar_PH</th>\n",
       "      <th>sugar</th>\n",
       "      <th>PH</th>\n",
       "    </tr>\n",
       "  </thead>\n",
       "  <tbody>\n",
       "    <tr>\n",
       "      <th>0</th>\n",
       "      <td>1</td>\n",
       "      <td>9.4</td>\n",
       "      <td>0.0</td>\n",
       "      <td>1.9/3.51</td>\n",
       "      <td>1.9</td>\n",
       "      <td>3.51</td>\n",
       "    </tr>\n",
       "    <tr>\n",
       "      <th>1</th>\n",
       "      <td>2</td>\n",
       "      <td>9.8</td>\n",
       "      <td>0.0</td>\n",
       "      <td>2.6/3.2</td>\n",
       "      <td>2.6</td>\n",
       "      <td>3.2</td>\n",
       "    </tr>\n",
       "    <tr>\n",
       "      <th>2</th>\n",
       "      <td>6498</td>\n",
       "      <td>9.8</td>\n",
       "      <td>0.0</td>\n",
       "      <td>2.3/3.26</td>\n",
       "      <td>2.3</td>\n",
       "      <td>3.26</td>\n",
       "    </tr>\n",
       "    <tr>\n",
       "      <th>3</th>\n",
       "      <td>4</td>\n",
       "      <td>9.8</td>\n",
       "      <td>0.0</td>\n",
       "      <td>1.9/3.16</td>\n",
       "      <td>1.9</td>\n",
       "      <td>3.16</td>\n",
       "    </tr>\n",
       "    <tr>\n",
       "      <th>4</th>\n",
       "      <td>5</td>\n",
       "      <td>9.4</td>\n",
       "      <td>0.0</td>\n",
       "      <td>1.9/3.51</td>\n",
       "      <td>1.9</td>\n",
       "      <td>3.51</td>\n",
       "    </tr>\n",
       "  </tbody>\n",
       "</table>\n",
       "</div>"
      ],
      "text/plain": [
       "   index  alcohol  class  sugar_PH sugar    PH\n",
       "0      1      9.4    0.0  1.9/3.51   1.9  3.51\n",
       "1      2      9.8    0.0   2.6/3.2   2.6   3.2\n",
       "2   6498      9.8    0.0  2.3/3.26   2.3  3.26\n",
       "3      4      9.8    0.0  1.9/3.16   1.9  3.16\n",
       "4      5      9.4    0.0  1.9/3.51   1.9  3.51"
      ]
     },
     "metadata": {},
     "execution_count": 22
    }
   ],
   "metadata": {}
  },
  {
   "cell_type": "code",
   "execution_count": 10,
   "source": [
    "## 참고\r\n",
    "tmp = pd.merge(wine1, wine2)\r\n",
    "tmp.info()      # 옵션이 없으면 wine1과 wine2의 필드가 같은걸 자동으로 연결하고 그 index필드가 같은 자료만 가져옴\r\n",
    "                # 옵션(조인할 필드, 조인형식: wine1과 같은 wine2자료만 가져오고 그외는 NaN처리, wine2를 기준해서 wine1으로 가져오고 NaN으로 처리)\r\n"
   ],
   "outputs": [
    {
     "output_type": "stream",
     "name": "stdout",
     "text": [
      "<class 'pandas.core.frame.DataFrame'>\n",
      "Int64Index: 6497 entries, 0 to 6496\n",
      "Data columns (total 4 columns):\n",
      " #   Column    Non-Null Count  Dtype  \n",
      "---  ------    --------------  -----  \n",
      " 0   index     6497 non-null   int64  \n",
      " 1   alcohol   6497 non-null   float64\n",
      " 2   class     6493 non-null   float64\n",
      " 3   sugar_PH  6497 non-null   object \n",
      "dtypes: float64(2), int64(1), object(1)\n",
      "memory usage: 253.8+ KB\n"
     ]
    }
   ],
   "metadata": {}
  },
  {
   "cell_type": "code",
   "execution_count": 24,
   "source": [
    "dfTmp=pd.merge(wine1, wine2)\r\n",
    "mainList=[]\r\n",
    "\r\n",
    "for i in dfTmp['sugar_PH']:\r\n",
    "    List=[]\r\n",
    "    for k in i.split('/'):\r\n",
    "        List.append(k)\r\n",
    "    mainList.append(List)\r\n",
    "print(mainList[:10])\r\n",
    "\r\n",
    "import numpy as np\r\n",
    "dfTmp['sugar']=np.array(mainList)[:,0]  # [:,0]모든행, 0번열\r\n",
    "dfTmp['PH']=np.array(mainList)[:,1]     # [:,1]모든행, 1번열"
   ],
   "outputs": [
    {
     "output_type": "stream",
     "name": "stdout",
     "text": [
      "[['1.9', '3.51'], ['2.6', '3.2'], ['2.3', '3.26'], ['1.9', '3.16'], ['1.9', '3.51'], ['1.8', '3.51'], ['1.6', '3.3'], ['1.2', '3.39'], ['2', '3.36'], ['6.1', '3.35']]\n"
     ]
    }
   ],
   "metadata": {}
  },
  {
   "cell_type": "code",
   "execution_count": 25,
   "source": [
    "df=df.drop(['index','sugar_PH'],axis=1)\r\n",
    "df.info()"
   ],
   "outputs": [
    {
     "output_type": "stream",
     "name": "stdout",
     "text": [
      "<class 'pandas.core.frame.DataFrame'>\n",
      "Int64Index: 6497 entries, 0 to 6496\n",
      "Data columns (total 4 columns):\n",
      " #   Column   Non-Null Count  Dtype  \n",
      "---  ------   --------------  -----  \n",
      " 0   alcohol  6497 non-null   float64\n",
      " 1   class    6493 non-null   float64\n",
      " 2   sugar    6497 non-null   object \n",
      " 3   PH       6497 non-null   object \n",
      "dtypes: float64(2), object(2)\n",
      "memory usage: 253.8+ KB\n"
     ]
    }
   ],
   "metadata": {}
  },
  {
   "cell_type": "code",
   "execution_count": 26,
   "source": [
    "# 미션\r\n",
    "\r\n",
    "# sugar, PH의 필드형식 float64로 변환\r\n",
    "\r\n",
    "col=['sugar','PH']\r\n",
    "for x in col:\r\n",
    "    df[x]=df[x].astype('float64')\r\n",
    "df.info()"
   ],
   "outputs": [
    {
     "output_type": "stream",
     "name": "stdout",
     "text": [
      "<class 'pandas.core.frame.DataFrame'>\n",
      "Int64Index: 6497 entries, 0 to 6496\n",
      "Data columns (total 4 columns):\n",
      " #   Column   Non-Null Count  Dtype  \n",
      "---  ------   --------------  -----  \n",
      " 0   alcohol  6497 non-null   float64\n",
      " 1   class    6493 non-null   float64\n",
      " 2   sugar    6497 non-null   float64\n",
      " 3   PH       6497 non-null   float64\n",
      "dtypes: float64(4)\n",
      "memory usage: 253.8 KB\n"
     ]
    }
   ],
   "metadata": {}
  },
  {
   "cell_type": "code",
   "execution_count": null,
   "source": [
    "# 또는 col의 속성값이 object인 자료를 찾아서 변경하여 주세요.\r\n",
    "for x in df.columns:\r\n",
    "    if df[x].dtype=='object':\r\n",
    "        df[x]=df[x].astype('float64')\r\n",
    "\r\n",
    "# 위의코드를 컴프리헨션으로 작업 하단에 샘플 코드\r\n",
    "# df['sugar']=[x.split('/')[0] if pd.notnull(x) else x for x in tmp['sugar_PH']]"
   ],
   "outputs": [],
   "metadata": {}
  },
  {
   "cell_type": "code",
   "execution_count": 29,
   "source": [
    "import time\r\n",
    "start = time.time()\r\n",
    "[df[x].astype('float64') if df[x].dtype=='object' else x for x in df.columns]\r\n",
    "# [df[x].astype('float64') for x in df.columns if df[x].dtype=='object']\r\n",
    "print(time.time()-start)"
   ],
   "outputs": [
    {
     "output_type": "stream",
     "name": "stdout",
     "text": [
      "0.0\n"
     ]
    }
   ],
   "metadata": {}
  },
  {
   "cell_type": "code",
   "execution_count": null,
   "source": [
    "# 방법 1: 사용자가 변수를 직접 지정하고 일일히 명령어를 작업\r\n",
    "df['sugar']=df['sugar'].astype('float64')\r\n",
    "df['PH']=df['PH'].astype('float64')\r\n",
    "\r\n",
    "# 방법 2: 공통된 기능을 수행하는 변수명을 모아서 for로 반복함. 또는 사용자젖의 함수 작성해도 됨\r\n",
    "col=['sugar','PH']\r\n",
    "for x in col:\r\n",
    "    df[x]=df[x].astype('float64')\r\n",
    "df.info()\r\n",
    "\r\n",
    "# 방법 3: 만약에 object 관련 모든 변수를 숫자로 변형한다면 아래와 같이 작업\r\n",
    "for x in df.columns:\r\n",
    "    if df[x].dtype=='object':\r\n",
    "        df[x]=df[x].astype('float64')\r\n",
    "\r\n",
    "# 방법 4: 방법3을 압축한 형식\r\n",
    "[df[x].astype('float64') if df[x].dtype=='object' else x for x in df.columns]\r\n",
    "[df[x].astype('float64') for x in columns if df[x].dtype=='object']\r\n",
    "\r\n",
    "# 방법 5: 모두 바꾼다\r\n",
    "df.astype('float64')\r\n"
   ],
   "outputs": [],
   "metadata": {}
  },
  {
   "cell_type": "code",
   "execution_count": 30,
   "source": [
    "# class의 결측치를 0으로 치환하고자 함.\r\n",
    "numerics = ['int16', 'int32', 'int64', 'float16', 'float32', 'float64']\r\n",
    "\r\n",
    "# 모든 숫자 변수의 결측치르 0으로 채우기\r\n",
    "df[df.select_dtypes(include=numerics).columns]=df[df.select_dtypes(include=numerics).columns].fillna(0)\r\n",
    "df.info()"
   ],
   "outputs": [
    {
     "output_type": "stream",
     "name": "stdout",
     "text": [
      "<class 'pandas.core.frame.DataFrame'>\n",
      "Int64Index: 6497 entries, 0 to 6496\n",
      "Data columns (total 4 columns):\n",
      " #   Column   Non-Null Count  Dtype  \n",
      "---  ------   --------------  -----  \n",
      " 0   alcohol  6497 non-null   float64\n",
      " 1   class    6497 non-null   float64\n",
      " 2   sugar    6497 non-null   float64\n",
      " 3   PH       6497 non-null   float64\n",
      "dtypes: float64(4)\n",
      "memory usage: 253.8 KB\n"
     ]
    }
   ],
   "metadata": {}
  },
  {
   "cell_type": "code",
   "execution_count": null,
   "source": [
    "# for로 아래 코드 변경\r\n",
    "# sugar=[];PH=[]\r\n",
    "# for x in df['class']:\r\n",
    "#     if pd.notnull(x):\r\n",
    "#         sugar.append(x.split('/')[0])\r\n",
    "#         PH.append(x.split('/')[1])\r\n",
    "\r\n",
    "tmp=[]\r\n",
    "for x in df['class']:\r\n",
    "    if pd.notnull(x):\r\n",
    "        tmp.append(0)\r\n",
    "    else:\r\n",
    "        tmp.append(x)\r\n",
    "df['class']=tmp"
   ],
   "outputs": [],
   "metadata": {}
  },
  {
   "cell_type": "code",
   "execution_count": 31,
   "source": [
    "import seaborn as sns\r\n",
    "sns.heatmap(df.corr(), annot=True, cmap='YlOrRd')"
   ],
   "outputs": [
    {
     "output_type": "execute_result",
     "data": {
      "text/plain": [
       "<AxesSubplot:>"
      ]
     },
     "metadata": {},
     "execution_count": 31
    },
    {
     "output_type": "display_data",
     "data": {
      "image/png": "[encoded data removed]",
      "text/plain": [
       "<Figure size 432x288 with 2 Axes>"
      ]
     },
     "metadata": {
      "needs_background": "light"
     }
    }
   ],
   "metadata": {}
  },
  {
   "cell_type": "code",
   "execution_count": 32,
   "source": [
    "sns.pairplot(df.drop('class', axis=1))"
   ],
   "outputs": [
    {
     "output_type": "execute_result",
     "data": {
      "text/plain": [
       "<seaborn.axisgrid.PairGrid at 0x1beb3217af0>"
      ]
     },
     "metadata": {},
     "execution_count": 32
    },
    {
     "output_type": "display_data",
     "data": {
      "image/png": "[encoded data removed]",
      "text/plain": [
       "<Figure size 540x540 with 12 Axes>"
      ]
     },
     "metadata": {
      "needs_background": "light"
     }
    }
   ],
   "metadata": {}
  },
  {
   "cell_type": "code",
   "execution_count": 34,
   "source": [
    "# x, y데이터 분할\r\n",
    "# 미션\r\n",
    "# y_data\r\n",
    "# X_data\r\n",
    "\r\n",
    "y_data=df['class']\r\n",
    "X_data=df.drop(['class'], axis=1)\r\n",
    "X_data\r\n",
    "\r\n",
    "X_data.head()"
   ],
   "outputs": [
    {
     "output_type": "execute_result",
     "data": {
      "text/html": [
       "<div>\n",
       "<style scoped>\n",
       "    .dataframe tbody tr th:only-of-type {\n",
       "        vertical-align: middle;\n",
       "    }\n",
       "\n",
       "    .dataframe tbody tr th {\n",
       "        vertical-align: top;\n",
       "    }\n",
       "\n",
       "    .dataframe thead th {\n",
       "        text-align: right;\n",
       "    }\n",
       "</style>\n",
       "<table border=\"1\" class=\"dataframe\">\n",
       "  <thead>\n",
       "    <tr style=\"text-align: right;\">\n",
       "      <th></th>\n",
       "      <th>alcohol</th>\n",
       "      <th>sugar</th>\n",
       "      <th>PH</th>\n",
       "    </tr>\n",
       "  </thead>\n",
       "  <tbody>\n",
       "    <tr>\n",
       "      <th>0</th>\n",
       "      <td>9.4</td>\n",
       "      <td>1.9</td>\n",
       "      <td>3.51</td>\n",
       "    </tr>\n",
       "    <tr>\n",
       "      <th>1</th>\n",
       "      <td>9.8</td>\n",
       "      <td>2.6</td>\n",
       "      <td>3.20</td>\n",
       "    </tr>\n",
       "    <tr>\n",
       "      <th>2</th>\n",
       "      <td>9.8</td>\n",
       "      <td>2.3</td>\n",
       "      <td>3.26</td>\n",
       "    </tr>\n",
       "    <tr>\n",
       "      <th>3</th>\n",
       "      <td>9.8</td>\n",
       "      <td>1.9</td>\n",
       "      <td>3.16</td>\n",
       "    </tr>\n",
       "    <tr>\n",
       "      <th>4</th>\n",
       "      <td>9.4</td>\n",
       "      <td>1.9</td>\n",
       "      <td>3.51</td>\n",
       "    </tr>\n",
       "  </tbody>\n",
       "</table>\n",
       "</div>"
      ],
      "text/plain": [
       "   alcohol  sugar    PH\n",
       "0      9.4    1.9  3.51\n",
       "1      9.8    2.6  3.20\n",
       "2      9.8    2.3  3.26\n",
       "3      9.8    1.9  3.16\n",
       "4      9.4    1.9  3.51"
      ]
     },
     "metadata": {},
     "execution_count": 34
    }
   ],
   "metadata": {}
  },
  {
   "cell_type": "code",
   "execution_count": 48,
   "source": [
    "# 각자의 컴퓨터마다 값이 다 다름.\r\n",
    "# 공통 데이터를 사용하고자 하면 파일로 저장해서 다시 공유\r\n",
    "# 파일저장법1: train_x.csv, train_y.csv, test_y.csv, train_y.csv로 4개의 파일로 저장하는 방법\r\n",
    "# 파일저장법2: 4개의 자료를 한개의 npz라는 넘파이 압축 파일로 저장하는 방법\r\n",
    "train_x"
   ],
   "outputs": [
    {
     "output_type": "execute_result",
     "data": {
      "text/html": [
       "<div>\n",
       "<style scoped>\n",
       "    .dataframe tbody tr th:only-of-type {\n",
       "        vertical-align: middle;\n",
       "    }\n",
       "\n",
       "    .dataframe tbody tr th {\n",
       "        vertical-align: top;\n",
       "    }\n",
       "\n",
       "    .dataframe thead th {\n",
       "        text-align: right;\n",
       "    }\n",
       "</style>\n",
       "<table border=\"1\" class=\"dataframe\">\n",
       "  <thead>\n",
       "    <tr style=\"text-align: right;\">\n",
       "      <th></th>\n",
       "      <th>alcohol</th>\n",
       "      <th>sugar</th>\n",
       "      <th>PH</th>\n",
       "    </tr>\n",
       "  </thead>\n",
       "  <tbody>\n",
       "    <tr>\n",
       "      <th>863</th>\n",
       "      <td>9.7</td>\n",
       "      <td>2.50</td>\n",
       "      <td>3.51</td>\n",
       "    </tr>\n",
       "    <tr>\n",
       "      <th>104</th>\n",
       "      <td>9.4</td>\n",
       "      <td>2.20</td>\n",
       "      <td>3.33</td>\n",
       "    </tr>\n",
       "    <tr>\n",
       "      <th>1764</th>\n",
       "      <td>9.8</td>\n",
       "      <td>13.00</td>\n",
       "      <td>3.16</td>\n",
       "    </tr>\n",
       "    <tr>\n",
       "      <th>1691</th>\n",
       "      <td>12.6</td>\n",
       "      <td>1.70</td>\n",
       "      <td>3.26</td>\n",
       "    </tr>\n",
       "    <tr>\n",
       "      <th>1344</th>\n",
       "      <td>11.0</td>\n",
       "      <td>2.60</td>\n",
       "      <td>3.09</td>\n",
       "    </tr>\n",
       "    <tr>\n",
       "      <th>...</th>\n",
       "      <td>...</td>\n",
       "      <td>...</td>\n",
       "      <td>...</td>\n",
       "    </tr>\n",
       "    <tr>\n",
       "      <th>905</th>\n",
       "      <td>9.5</td>\n",
       "      <td>3.00</td>\n",
       "      <td>3.23</td>\n",
       "    </tr>\n",
       "    <tr>\n",
       "      <th>5192</th>\n",
       "      <td>10.7</td>\n",
       "      <td>4.20</td>\n",
       "      <td>3.35</td>\n",
       "    </tr>\n",
       "    <tr>\n",
       "      <th>3980</th>\n",
       "      <td>10.2</td>\n",
       "      <td>5.10</td>\n",
       "      <td>3.50</td>\n",
       "    </tr>\n",
       "    <tr>\n",
       "      <th>235</th>\n",
       "      <td>9.0</td>\n",
       "      <td>1.90</td>\n",
       "      <td>3.37</td>\n",
       "    </tr>\n",
       "    <tr>\n",
       "      <th>5157</th>\n",
       "      <td>9.0</td>\n",
       "      <td>16.65</td>\n",
       "      <td>3.24</td>\n",
       "    </tr>\n",
       "  </tbody>\n",
       "</table>\n",
       "<p>4547 rows × 3 columns</p>\n",
       "</div>"
      ],
      "text/plain": [
       "      alcohol  sugar    PH\n",
       "863       9.7   2.50  3.51\n",
       "104       9.4   2.20  3.33\n",
       "1764      9.8  13.00  3.16\n",
       "1691     12.6   1.70  3.26\n",
       "1344     11.0   2.60  3.09\n",
       "...       ...    ...   ...\n",
       "905       9.5   3.00  3.23\n",
       "5192     10.7   4.20  3.35\n",
       "3980     10.2   5.10  3.50\n",
       "235       9.0   1.90  3.37\n",
       "5157      9.0  16.65  3.24\n",
       "\n",
       "[4547 rows x 3 columns]"
      ]
     },
     "metadata": {},
     "execution_count": 48
    }
   ],
   "metadata": {}
  },
  {
   "cell_type": "code",
   "execution_count": 55,
   "source": [
    "# 사이킷런 제공 트레이닝 테스트 자료 분할기 사용\r\n",
    "# train_X, test_X, train_y, test_y로 분할 30%\r\n",
    "\r\n",
    "from sklearn.linear_model import LogisticRegression\r\n",
    "from sklearn.model_selection import train_test_split\r\n",
    "from sklearn.metrics import confusion_matrix\r\n",
    "from sklearn.preprocessing import StandardScaler\r\n",
    "from sklearn.metrics import accuracy_score, recall_score, roc_auc_score, roc_curve, precision_score\r\n",
    "\r\n",
    "train_x, test_x, train_y, test_y=train_test_split(X_data, y_data, test_size=0.3, random_state=1)\r\n",
    "print(train_x.shape, test_x.shape, train_y.shape, test_y.shape)"
   ],
   "outputs": [
    {
     "output_type": "stream",
     "name": "stdout",
     "text": [
      "(4547, 3) (1950, 3) (4547,) (1950,)\n"
     ]
    }
   ],
   "metadata": {}
  },
  {
   "cell_type": "code",
   "execution_count": 47,
   "source": [
    "# 사이킷런의 StandardScaler\r\n",
    "\r\n",
    "scaler=StandardScaler()\r\n",
    "scaler.fit(train_x)\r\n",
    "\r\n",
    "train_scaled=scaler.transform(train_x)\r\n",
    "test_scaled=scaler.transform(test_x)"
   ],
   "outputs": [],
   "metadata": {}
  },
  {
   "cell_type": "code",
   "execution_count": 43,
   "source": [
    "# 미션\r\n",
    "# y결과값이 0과 1의 두가지 값만 표시되는 이항분류를 진행하고자 함.\r\n",
    "# 로지스특회귀분석 실시\r\n",
    "# 트레이닝, 테스트 스코어값\r\n",
    "\r\n",
    "lr=LogisticRegression()\r\n",
    "lr.fit(train_scaled, train_y)\r\n",
    "\r\n",
    "print(lr.score(train_scaled, train_y))\r\n",
    "print(lr.score(test_scaled, test_y))"
   ],
   "outputs": [
    {
     "output_type": "stream",
     "name": "stdout",
     "text": [
      "0.7864526061139213\n",
      "0.778974358974359\n"
     ]
    }
   ],
   "metadata": {}
  },
  {
   "cell_type": "code",
   "execution_count": 58,
   "source": [
    "# 평가지표\r\n",
    "# from sklearn.metrics import accuracy_score, recall_score, roc_auc_score, roc_curve\r\n",
    "\r\n",
    "# 실제 y값과 예측값의 일치유무(y레이븝ㄹ이 2개임ㅁ으로 경우의수는 4개)\r\n",
    "# 실제 y값이 1, 예측값도 1 ....... 11, 10, 01, 00\r\n",
    "pred=lr.predict(test_scaled)    # pred는 예측값\r\n",
    "\r\n",
    "print('acc 정확도 %2.3f'%accuracy_score(test_y,pred))\r\n",
    "print('recall 재현율 %2.3f'%recall_score(test_y,pred))\r\n",
    "print('pre 정밀도 %2.3f'%precision_score(test_y,pred))"
   ],
   "outputs": [
    {
     "output_type": "stream",
     "name": "stdout",
     "text": [
      "acc 정확도 0.779\n",
      "recall 재현율 0.903\n",
      "pre 정밀도 0.824\n"
     ]
    }
   ],
   "metadata": {}
  },
  {
   "cell_type": "code",
   "execution_count": 64,
   "source": [
    "# pred-test_y 이값이 0이면 맞음, 아니면 틀림\r\n",
    "\r\n",
    "cnt=0\r\n",
    "for i, k in zip(pred, test_y):\r\n",
    "    if i==k:\r\n",
    "        cnt+=1\r\n",
    "print(cnt/len(pred), 1-cnt/len(pred))\r\n",
    "\r\n",
    "# 정확도(성공율): 맞음의갯수/전체갯수\r\n",
    "\r\n",
    "cnt1=0\r\n",
    "for x in pred-test_y:\r\n",
    "    if x==0:\r\n",
    "        cnt1+=1\r\n",
    "print(cnt1/len(pred))\r\n",
    "\r\n",
    "#--------------------------------\r\n",
    "\r\n",
    "tmp=[]\r\n",
    "for x in pred-test_y:\r\n",
    "    tmp.append(x)\r\n",
    "print(tmp.count(0)/len(tmp))    # 리스트 자료중에 숫자 0의 count수\r\n",
    "\r\n",
    "#----------------------------------\r\n",
    "tmp=[]\r\n",
    "tmp=[x for x in pred-test_y]\r\n",
    "print(tmp.count(0)/len(tmp))     # 리스트 자료중에 숫자 0의 count수"
   ],
   "outputs": [
    {
     "output_type": "stream",
     "name": "stdout",
     "text": [
      "0.778974358974359 0.22102564102564104\n",
      "0.778974358974359\n",
      "0.778974358974359\n",
      "0.778974358974359\n"
     ]
    }
   ],
   "metadata": {}
  },
  {
   "cell_type": "code",
   "execution_count": null,
   "source": [
    "# 참고, 성공율 확인(TP:실제값1-> 예측값1, TN:실제값0-> 예측값0)\r\n",
    "# 참고 score값 확인\r\n",
    "# 자료의 class가 1이면 화이트 화인/0이면 레드와인임\r\n",
    "\r\n",
    "# 파이썬 컴프리헨션으로 실제 y값(test_y값)과 예측y값(lr.predict(test_scaled))값과의 차이구함.\r\n",
    "# 두값이 같으면 0 즉, 일치하는 자료는 0이고 그외 자료는 불일치 자료임\r\n",
    "\r\n",
    "# train, test자료 모두 해야 함으로 함수로 만들어서 작업\r\n"
   ],
   "outputs": [],
   "metadata": {}
  },
  {
   "cell_type": "code",
   "execution_count": 81,
   "source": [
    "# 참고 예측\r\n",
    "# 새로운 new_X가밧도 스케일링 하고 예측해야함\r\n",
    "# alcohol, sugar, PH값이\r\n",
    "\r\n",
    "# new_X는 사용자가 웹에서 직접 입력할수도 있고, csv자료일수도있고, 크롤링으로 얻어온 자료일수도 있고\r\n",
    "# 또는 이미지 또는 사운드의 내용일수도 있음.\r\n",
    "\r\n",
    "# 이 작업은 보통 위에 있는 작업을 모두 피클링 또는 dump해서 객체화 시켜서 갖고 있게됨.\r\n",
    "\r\n",
    "# 또는 머시니러닝에서도 모델값만 갖고 있게 됨.\r\n",
    "# 또는 딥러닝 같은경우는 모델값만 갖고 있게됨\r\n",
    "\r\n",
    "\r\n",
    "new_XX=np.array([\r\n",
    "    [15, 30, 1.08]\r\n",
    "])\r\n",
    "\r\n",
    "from sklearn.preprocessing import StandardScaler\r\n",
    "scaler=StandardScaler()\r\n",
    "\r\n",
    "scaler.fit(new_X)\r\n",
    "\r\n",
    "newX_scaled=scaler.transform(new_XX)\r\n",
    "y_hat=lr.predict(newX_scaled)\r\n",
    "print(int(y_hat[0]))\r\n",
    "\r\n",
    "# 이 자료의 class가 1이면 화이트 화인/0이면 레드와인임\r\n",
    "classLabel=['red wine', 'white wine']\r\n",
    "print(classLabel[int(y_hat[0])])\r\n",
    "\r\n",
    "# classLabel[np.argmax(np.array(y_hat))]\r\n",
    "\r\n",
    "확률=lr.predict_proba(new_XX)    # 출력물이 [0.,1.] 1이 될 확률이 1임. [0.2,0.8]은 1이될 확률이 0.8임\r\n",
    "classLabel[np.argmax(확률)]     # [0,1]운 1번째 값이 가장 큼. 즉 가장 큰 값의 index가 나옴"
   ],
   "outputs": [
    {
     "output_type": "stream",
     "name": "stdout",
     "text": [
      "1\n",
      "white wine\n"
     ]
    },
    {
     "output_type": "execute_result",
     "data": {
      "text/plain": [
       "'white wine'"
      ]
     },
     "metadata": {},
     "execution_count": 81
    }
   ],
   "metadata": {}
  },
  {
   "cell_type": "code",
   "execution_count": 86,
   "source": [
    "# 미션\r\n",
    "# p_value값이 0.05보다 크면 정규분포가 아니라서\r\n",
    "# 귀무사설이 맞을음 의미함.\r\n",
    "# 즉 그 자료의 분포는 이리정하여서 y값에 영향을 미치지 않음\r\n",
    "# p_value값이 0.05보다 작으면 귀무가설을 기각할수 있음을 뜻함\r\n",
    "\r\n",
    "# 관측치 값들의 관여 민감도\r\n",
    "# P>│z│ 값의 크기를 확인하여서 x1, x2, x3(넘파이로 변환해서 이렇게 나옴. 판다스형태에서 작업하면 변수)\r\n",
    "# x1(alcohol), x2(sugar), x3(PH)값이 모두 특징값으로 참여해도 됨을 확인하는 작업임\r\n",
    "# import statsmoodels.api as sm\r\n",
    "\r\n",
    "import statsmodels.api as sm\r\n",
    "\r\n",
    "logitreg=sm.Logit(train_y, train_scaled)\r\n",
    "logitreg_fit=logitreg.fit()\r\n",
    "\r\n",
    "results=logitreg_fit.summary()\r\n",
    "results\r\n",
    "\r\n"
   ],
   "outputs": [
    {
     "output_type": "stream",
     "name": "stdout",
     "text": [
      "Optimization terminated successfully.\n",
      "         Current function value: 0.603012\n",
      "         Iterations 5\n"
     ]
    },
    {
     "output_type": "execute_result",
     "data": {
      "text/html": [
       "<table class=\"simpletable\">\n",
       "<caption>Logit Regression Results</caption>\n",
       "<tr>\n",
       "  <th>Dep. Variable:</th>         <td>class</td>      <th>  No. Observations:  </th>  <td>  4547</td> \n",
       "</tr>\n",
       "<tr>\n",
       "  <th>Model:</th>                 <td>Logit</td>      <th>  Df Residuals:      </th>  <td>  4544</td> \n",
       "</tr>\n",
       "<tr>\n",
       "  <th>Method:</th>                 <td>MLE</td>       <th>  Df Model:          </th>  <td>     2</td> \n",
       "</tr>\n",
       "<tr>\n",
       "  <th>Date:</th>            <td>Thu, 23 Sep 2021</td> <th>  Pseudo R-squ.:     </th> <td>-0.07222</td>\n",
       "</tr>\n",
       "<tr>\n",
       "  <th>Time:</th>                <td>14:57:55</td>     <th>  Log-Likelihood:    </th> <td> -2741.9</td>\n",
       "</tr>\n",
       "<tr>\n",
       "  <th>converged:</th>             <td>True</td>       <th>  LL-Null:           </th> <td> -2557.2</td>\n",
       "</tr>\n",
       "<tr>\n",
       "  <th>Covariance Type:</th>     <td>nonrobust</td>    <th>  LLR p-value:       </th>  <td> 1.000</td> \n",
       "</tr>\n",
       "</table>\n",
       "<table class=\"simpletable\">\n",
       "<tr>\n",
       "   <td></td>     <th>coef</th>     <th>std err</th>      <th>z</th>      <th>P>|z|</th>  <th>[0.025</th>    <th>0.975]</th>  \n",
       "</tr>\n",
       "<tr>\n",
       "  <th>x1</th> <td>    0.3909</td> <td>    0.036</td> <td>   10.961</td> <td> 0.000</td> <td>    0.321</td> <td>    0.461</td>\n",
       "</tr>\n",
       "<tr>\n",
       "  <th>x2</th> <td>    0.7238</td> <td>    0.040</td> <td>   18.279</td> <td> 0.000</td> <td>    0.646</td> <td>    0.801</td>\n",
       "</tr>\n",
       "<tr>\n",
       "  <th>x3</th> <td>   -0.5539</td> <td>    0.036</td> <td>  -15.380</td> <td> 0.000</td> <td>   -0.624</td> <td>   -0.483</td>\n",
       "</tr>\n",
       "</table>"
      ],
      "text/plain": [
       "<class 'statsmodels.iolib.summary.Summary'>\n",
       "\"\"\"\n",
       "                           Logit Regression Results                           \n",
       "==============================================================================\n",
       "Dep. Variable:                  class   No. Observations:                 4547\n",
       "Model:                          Logit   Df Residuals:                     4544\n",
       "Method:                           MLE   Df Model:                            2\n",
       "Date:                Thu, 23 Sep 2021   Pseudo R-squ.:                -0.07222\n",
       "Time:                        14:57:55   Log-Likelihood:                -2741.9\n",
       "converged:                       True   LL-Null:                       -2557.2\n",
       "Covariance Type:            nonrobust   LLR p-value:                     1.000\n",
       "==============================================================================\n",
       "                 coef    std err          z      P>|z|      [0.025      0.975]\n",
       "------------------------------------------------------------------------------\n",
       "x1             0.3909      0.036     10.961      0.000       0.321       0.461\n",
       "x2             0.7238      0.040     18.279      0.000       0.646       0.801\n",
       "x3            -0.5539      0.036    -15.380      0.000      -0.624      -0.483\n",
       "==============================================================================\n",
       "\"\"\""
      ]
     },
     "metadata": {},
     "execution_count": 86
    }
   ],
   "metadata": {}
  },
  {
   "cell_type": "code",
   "execution_count": 87,
   "source": [
    "# 해석: alcohol값이 1증가할때마다 class가 1이ㅣ 될 확률 이 1.8배 증가함\r\n",
    "import numpy as np\r\n",
    "np.exp(logitreg_fit.params)"
   ],
   "outputs": [
    {
     "output_type": "execute_result",
     "data": {
      "text/plain": [
       "x1    1.478285\n",
       "x2    2.062197\n",
       "x3    0.574701\n",
       "dtype: float64"
      ]
     },
     "metadata": {},
     "execution_count": 87
    }
   ],
   "metadata": {}
  },
  {
   "cell_type": "code",
   "execution_count": 88,
   "source": [
    "from sklearn.metrics import confusion_matrix\r\n",
    "cm=confusion_matrix(test_y, lr.predict(test_scaled))\r\n",
    "cm"
   ],
   "outputs": [
    {
     "output_type": "execute_result",
     "data": {
      "text/plain": [
       "array([[ 176,  286],\n",
       "       [ 145, 1343]], dtype=int64)"
      ]
     },
     "metadata": {},
     "execution_count": 88
    }
   ],
   "metadata": {}
  },
  {
   "cell_type": "code",
   "execution_count": 92,
   "source": [
    "import warnings\r\n",
    "warnings.filterwarnings(action='ignore')\r\n",
    "\r\n",
    "import matplotlib.pyplot as plt\r\n",
    "sns.heatmap(cm, annot=True, fmt='d', cmap='Reds')\r\n",
    "plt.xlabel('예측값')\r\n",
    "plt.ylabel('실제값')\r\n",
    "plt.xticks([0.5, 1.5],['0(N)','1(P)'])\r\n",
    "plt.yticks([0.5, 1.5],['0(N)','1(P)'])\r\n",
    "plt.show()"
   ],
   "outputs": [
    {
     "output_type": "display_data",
     "data": {
      "image/png": "[encoded data removed]",
      "text/plain": [
       "<Figure size 432x288 with 2 Axes>"
      ]
     },
     "metadata": {
      "needs_background": "light"
     }
    }
   ],
   "metadata": {}
  },
  {
   "cell_type": "code",
   "execution_count": 93,
   "source": [
    "pd.DataFrame(cm, index=['실제값(N:0)','실제값(P:1)'], columns=['예측값(N:0)','예측값(P:1)'])"
   ],
   "outputs": [
    {
     "output_type": "execute_result",
     "data": {
      "text/html": [
       "<div>\n",
       "<style scoped>\n",
       "    .dataframe tbody tr th:only-of-type {\n",
       "        vertical-align: middle;\n",
       "    }\n",
       "\n",
       "    .dataframe tbody tr th {\n",
       "        vertical-align: top;\n",
       "    }\n",
       "\n",
       "    .dataframe thead th {\n",
       "        text-align: right;\n",
       "    }\n",
       "</style>\n",
       "<table border=\"1\" class=\"dataframe\">\n",
       "  <thead>\n",
       "    <tr style=\"text-align: right;\">\n",
       "      <th></th>\n",
       "      <th>예측값(N:0)</th>\n",
       "      <th>예측값(P:1)</th>\n",
       "    </tr>\n",
       "  </thead>\n",
       "  <tbody>\n",
       "    <tr>\n",
       "      <th>실제값(N:0)</th>\n",
       "      <td>176</td>\n",
       "      <td>286</td>\n",
       "    </tr>\n",
       "    <tr>\n",
       "      <th>실제값(P:1)</th>\n",
       "      <td>145</td>\n",
       "      <td>1343</td>\n",
       "    </tr>\n",
       "  </tbody>\n",
       "</table>\n",
       "</div>"
      ],
      "text/plain": [
       "          예측값(N:0)  예측값(P:1)\n",
       "실제값(N:0)       176       286\n",
       "실제값(P:1)       145      1343"
      ]
     },
     "metadata": {},
     "execution_count": 93
    }
   ],
   "metadata": {}
  },
  {
   "cell_type": "code",
   "execution_count": 94,
   "source": [
    "# 참고\r\n",
    "\r\n",
    "tmp=[]\r\n",
    "pred=lr.predict(test_scaled)\r\n",
    "\r\n",
    "for i, k in zip(test_y, pred):\r\n",
    "    tmp.append(str(int(i))+str(int(k)))\r\n",
    "\r\n",
    "tmpdf=pd.DataFrame({'y':test_y, 'y_hat':pred, '실제값/예측값':tmp})\r\n",
    "tmpdf.groupby(['실제값/예측값']).count()"
   ],
   "outputs": [
    {
     "output_type": "execute_result",
     "data": {
      "text/html": [
       "<div>\n",
       "<style scoped>\n",
       "    .dataframe tbody tr th:only-of-type {\n",
       "        vertical-align: middle;\n",
       "    }\n",
       "\n",
       "    .dataframe tbody tr th {\n",
       "        vertical-align: top;\n",
       "    }\n",
       "\n",
       "    .dataframe thead th {\n",
       "        text-align: right;\n",
       "    }\n",
       "</style>\n",
       "<table border=\"1\" class=\"dataframe\">\n",
       "  <thead>\n",
       "    <tr style=\"text-align: right;\">\n",
       "      <th></th>\n",
       "      <th>y</th>\n",
       "      <th>y_hat</th>\n",
       "    </tr>\n",
       "    <tr>\n",
       "      <th>실제값/예측값</th>\n",
       "      <th></th>\n",
       "      <th></th>\n",
       "    </tr>\n",
       "  </thead>\n",
       "  <tbody>\n",
       "    <tr>\n",
       "      <th>00</th>\n",
       "      <td>176</td>\n",
       "      <td>176</td>\n",
       "    </tr>\n",
       "    <tr>\n",
       "      <th>01</th>\n",
       "      <td>286</td>\n",
       "      <td>286</td>\n",
       "    </tr>\n",
       "    <tr>\n",
       "      <th>10</th>\n",
       "      <td>145</td>\n",
       "      <td>145</td>\n",
       "    </tr>\n",
       "    <tr>\n",
       "      <th>11</th>\n",
       "      <td>1343</td>\n",
       "      <td>1343</td>\n",
       "    </tr>\n",
       "  </tbody>\n",
       "</table>\n",
       "</div>"
      ],
      "text/plain": [
       "            y  y_hat\n",
       "실제값/예측값             \n",
       "00        176    176\n",
       "01        286    286\n",
       "10        145    145\n",
       "11       1343   1343"
      ]
     },
     "metadata": {},
     "execution_count": 94
    }
   ],
   "metadata": {}
  },
  {
   "cell_type": "code",
   "execution_count": 98,
   "source": [
    "# TP: 실제 True인 정답을 True라고 예측(정답)\r\n",
    "# FP: 실제 False인 정답을 True라고 예측(오답)\r\n",
    "# FN: 실제 True인 정답을 False라고 예측(오답)\r\n",
    "# TN: 실제 False인 정답을 False라고 예측(정답)\r\n",
    "\r\n",
    "# bigo는 y_hat\r\n",
    "TP=cm[1,1]; TN=cm[0,0]; FP=cm[0,1]; FN=cm[1,0]\r\n",
    "print(TP,TN,FP,FN)\r\n",
    "\r\n",
    "from sklearn.metrics import confusion_matrix\r\n",
    "cm=confusion_matrix(test_y, lr.predict(test_scaled))\r\n",
    "print(cm)"
   ],
   "outputs": [
    {
     "output_type": "stream",
     "name": "stdout",
     "text": [
      "1343 176 286 145\n",
      "[[ 176  286]\n",
      " [ 145 1343]]\n"
     ]
    }
   ],
   "metadata": {}
  },
  {
   "cell_type": "code",
   "execution_count": 110,
   "source": [
    "# 재현율을 높여봅니다\r\n",
    "# predict_proba 분류결정 예측 확률을 반환\r\n",
    "\r\n",
    "pred_proba=lr.predict_proba(test_scaled)\r\n",
    "pred=lr.predict(test_scaled)\r\n",
    "print('pred_proba()결과 Shape: {0}'.format(pred_proba.shape))\r\n",
    "print('pred_proba array에서 앞 3개만 샘플로 추출 \\n:', pred_proba[:3])\r\n",
    "\r\n",
    "# 예측 확률 array와 예측 결과값 array를 concatenate하여 예측 확률과 결과값을 한눈에 확인\r\n",
    "pred_proba_result=np.concatenate([pred_proba, pred.reshape(-1, 1)], axis=1)\r\n",
    "print('두개의 class중에서 더 큰 확률을 클래스 값으로 예측\\n', pred_proba_result[:3])"
   ],
   "outputs": [
    {
     "output_type": "stream",
     "name": "stdout",
     "text": [
      "pred_proba()결과 Shape: (1950, 2)\n",
      "pred_proba array에서 앞 3개만 샘플로 추출 \n",
      ": [[0.00406839 0.99593161]\n",
      " [0.09466176 0.90533824]\n",
      " [0.04207767 0.95792233]]\n",
      "두개의 class중에서 더 큰 확률을 클래스 값으로 예측\n",
      " [[0.00406839 0.99593161 1.        ]\n",
      " [0.09466176 0.90533824 1.        ]\n",
      " [0.04207767 0.95792233 1.        ]]\n"
     ]
    }
   ],
   "metadata": {}
  },
  {
   "cell_type": "code",
   "execution_count": 115,
   "source": [
    "def get_clf_eval(y_test, pred):\r\n",
    "    confusion=confusion_matrix(y_test, pred)\r\n",
    "    precision=precision_score(y_test, pred)\r\n",
    "    recall=recall_score(y_test, pred)\r\n",
    "    print('오차행렬')\r\n",
    "    print(confusion)\r\n",
    "    print('정밀도: {0:.4f}, 재현율: {1:.4f}'.format(precision, recall))\r\n",
    "\r\n",
    "    # 리포트 출력\r\n",
    "    #cm=confusion_matrix(test_y, lr.predict(test_scaled))"
   ],
   "outputs": [],
   "metadata": {}
  },
  {
   "cell_type": "code",
   "execution_count": 117,
   "source": [
    "from sklearn.preprocessing import Binarizer\r\n",
    "\r\n",
    "# Binarizer의 threshold 설정값, 분류 결정 임계값임\r\n",
    "custom_threshold_list=[0.3,0.5,0.8]\r\n",
    "\r\n",
    "for custom_threshold in custom_threshold_list:\r\n",
    "    print('------custom_threshold_list%2.1f' % custom_threshold)\r\n",
    "    # predict_proba() 반환값의 두번째 컬럼, 즉 Positive 클래스 컬럼 하나만 추출하여 Binarizer를 적용\r\n",
    "    pred_proba=lr.predict_proba(test_scaled)\r\n",
    "    pred=lr.predict(test_scaled)\r\n",
    "\r\n",
    "    pred_proba_1=pred_proba[:,1].reshape(-1,1)\r\n",
    "\r\n",
    "    binarizer=Binarizer(threshold=custom_threshold).fit(pred_proba_1)\r\n",
    "    custom_predict=binarizer.transform(pred_proba_1)\r\n",
    "    custom_predict\r\n",
    "    #get_clf_eval(test_y, )\r\n",
    "\r\n",
    "    get_clf_eval(test_y,custom_predict)"
   ],
   "outputs": [
    {
     "output_type": "stream",
     "name": "stdout",
     "text": [
      "------custom_threshold_list0.3\n",
      "오차행렬\n",
      "[[  49  413]\n",
      " [  40 1448]]\n",
      "정밀도: 0.7781, 재현율: 0.9731\n",
      "------custom_threshold_list0.5\n",
      "오차행렬\n",
      "[[ 176  286]\n",
      " [ 145 1343]]\n",
      "정밀도: 0.8244, 재현율: 0.9026\n",
      "------custom_threshold_list0.8\n",
      "오차행렬\n",
      "[[410  52]\n",
      " [542 946]]\n",
      "정밀도: 0.9479, 재현율: 0.6358\n"
     ]
    }
   ],
   "metadata": {}
  },
  {
   "cell_type": "code",
   "execution_count": null,
   "source": [],
   "outputs": [],
   "metadata": {}
  }
 ],
 "metadata": {
  "orig_nbformat": 4,
  "language_info": {
   "name": "python",
   "version": "3.8.10",
   "mimetype": "text/x-python",
   "codemirror_mode": {
    "name": "ipython",
    "version": 3
   },
   "pygments_lexer": "ipython3",
   "nbconvert_exporter": "python",
   "file_extension": ".py"
  },
  "kernelspec": {
   "name": "python3",
   "display_name": "Python 3.8.10 64-bit ('base': conda)"
  },
  "interpreter": {
   "hash": "dd97e7e039312bfd5102ddc207199795dc5ae79eed0d3515df29345efc0940d0"
  }
 },
 "nbformat": 4,
 "nbformat_minor": 2
}