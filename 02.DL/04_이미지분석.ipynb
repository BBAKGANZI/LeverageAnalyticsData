{
  "nbformat": 4,
  "nbformat_minor": 0,
  "metadata": {
    "colab": {
      "name": "04.이미지분석.ipynb",
      "provenance": [],
      "collapsed_sections": []
    },
    "kernelspec": {
      "name": "python3",
      "display_name": "Python 3"
    },
    "language_info": {
      "name": "python"
    }
  },
  "cells": [
    {
      "cell_type": "code",
      "metadata": {
        "colab": {
          "base_uri": "https://localhost:8080/",
          "height": 377
        },
        "id": "94Ppy0fJXvlV",
        "outputId": "3918c7d1-2bce-442e-e2da-3abbc59d66a6"
      },
      "source": [
        "# 이미지 데이터셋의 이해\n",
        "\n",
        "# 그레이스케일(회색조) 데이터는 0~255의 값을 가짐\n",
        "# 흑백(0또는 1만 있음)\n",
        "\n",
        "import numpy as np\n",
        "import matplotlib.pyplot as plt\n",
        "\n",
        "img= [[0,0,0],\n",
        "      [190,195,0], \n",
        "      [200,205,0], \n",
        "      [210,240,0]]\n",
        "\n",
        "imgarr = np.array(img)\n",
        "imgarrSc=imgarr/255     # 스케일을 해도 동일한 이미지가 출력됨\n",
        "\n",
        "print(imgarrSc)\n",
        "print(np.shape(imgarr))\n",
        "plt.imshow(imgarr, cmap='gray')"
      ],
      "execution_count": 7,
      "outputs": [
        {
          "output_type": "stream",
          "name": "stdout",
          "text": [
            "[[0.         0.         0.        ]\n",
            " [0.74509804 0.76470588 0.        ]\n",
            " [0.78431373 0.80392157 0.        ]\n",
            " [0.82352941 0.94117647 0.        ]]\n",
            "(4, 3)\n"
          ]
        },
        {
          "output_type": "execute_result",
          "data": {
            "text/plain": [
              "<matplotlib.image.AxesImage at 0x7f1fa12e7690>"
            ]
          },
          "metadata": {},
          "execution_count": 7
        },
        {
          "output_type": "display_data",
          "data": {
            "image/png": "[encoded data removed]",
            "text/plain": [
              "<Figure size 432x288 with 1 Axes>"
            ]
          },
          "metadata": {
            "needs_background": "light"
          }
        }
      ]
    },
    {
      "cell_type": "code",
      "metadata": {
        "colab": {
          "base_uri": "https://localhost:8080/"
        },
        "id": "ivqzN06XaQ5i",
        "outputId": "ed4df086-820c-4852-9a61-00a7f63812ef"
      },
      "source": [
        "# reshape을 이용해서 4*3을 12로 변경\n",
        "imgRe12=imgarr.reshape(4*3)\n",
        "np.shape(imgRe12)\n",
        "\n",
        "imgRe12_=imgarr.reshape(1, 4*3) # 옆으로 데이터 쭉 풀어 놓음 4*3, 1 은 아래로 풀어놓음\n",
        "np.shape(imgRe12_)"
      ],
      "execution_count": 11,
      "outputs": [
        {
          "output_type": "execute_result",
          "data": {
            "text/plain": [
              "(1, 12)"
            ]
          },
          "metadata": {},
          "execution_count": 11
        }
      ]
    },
    {
      "cell_type": "code",
      "metadata": {
        "colab": {
          "base_uri": "https://localhost:8080/",
          "height": 323
        },
        "id": "W8LHY6zGa9ew",
        "outputId": "b77fba57-a66d-478b-c45b-338ee58063ff"
      },
      "source": [
        "imgs=[\n",
        "    [[0,0,0],\n",
        "     [190,195,0],\n",
        "     [200,205,0],\n",
        "     [210,240,0]],\n",
        "\n",
        "    [[255,255,0],\n",
        "     [0,5,0],\n",
        "     [200,205,0],\n",
        "     [210,240,0]]\n",
        "]\n",
        "imgsarr=np.array(imgs)\n",
        "print(np.shape(imgsarr))\n",
        "print(np.shape(imgsarr[0]))\n",
        "plt.imshow(imgsarr[0], cmap='gray')"
      ],
      "execution_count": 19,
      "outputs": [
        {
          "output_type": "stream",
          "name": "stdout",
          "text": [
            "(2, 4, 3)\n",
            "(4, 3)\n"
          ]
        },
        {
          "output_type": "execute_result",
          "data": {
            "text/plain": [
              "<matplotlib.image.AxesImage at 0x7f1f9cb1b410>"
            ]
          },
          "metadata": {},
          "execution_count": 19
        },
        {
          "output_type": "display_data",
          "data": {
            "image/png": "[encoded data removed]",
            "text/plain": [
              "<Figure size 432x288 with 1 Axes>"
            ]
          },
          "metadata": {
            "needs_background": "light"
          }
        }
      ]
    },
    {
      "cell_type": "code",
      "metadata": {
        "colab": {
          "base_uri": "https://localhost:8080/"
        },
        "id": "Ep2715c5b2cE",
        "outputId": "be600238-1963-4285-aa59-62a232e4364c"
      },
      "source": [
        "tmp=imgsarr.reshape(2, 4*3)\n",
        "print(tmp)\n",
        "print(np.shape(tmp))\n",
        "\n",
        "#------2,12를 2,4,3으로 변경해야함-------\n",
        "#tmp.reshape()"
      ],
      "execution_count": 21,
      "outputs": [
        {
          "output_type": "stream",
          "name": "stdout",
          "text": [
            "[[  0   0   0 190 195   0 200 205   0 210 240   0]\n",
            " [255 255   0   0   5   0 200 205   0 210 240   0]]\n",
            "(2, 12)\n"
          ]
        }
      ]
    },
    {
      "cell_type": "code",
      "metadata": {
        "colab": {
          "base_uri": "https://localhost:8080/"
        },
        "id": "g4i--yKecNsa",
        "outputId": "e8c3c9c8-37ae-4965-d895-01e9db9b00e0"
      },
      "source": [
        "tmp.reshape(-1,4,3)"
      ],
      "execution_count": 22,
      "outputs": [
        {
          "output_type": "execute_result",
          "data": {
            "text/plain": [
              "array([[[  0,   0,   0],\n",
              "        [190, 195,   0],\n",
              "        [200, 205,   0],\n",
              "        [210, 240,   0]],\n",
              "\n",
              "       [[255, 255,   0],\n",
              "        [  0,   5,   0],\n",
              "        [200, 205,   0],\n",
              "        [210, 240,   0]]])"
            ]
          },
          "metadata": {},
          "execution_count": 22
        }
      ]
    },
    {
      "cell_type": "markdown",
      "metadata": {
        "id": "SZYoAO3RYrlb"
      },
      "source": [
        "## 신경망 적용해보기\n",
        " - 데이터는 숫자 이미지(28,28)와 숫자에 해당하는 레이블로 구성되어 있음\n",
        "  - 60,000개 학습데이터, 10,000개 테스트 데이터\n",
        "\n"
      ]
    },
    {
      "cell_type": "markdown",
      "metadata": {
        "id": "AhVp9Wp8ikpO"
      },
      "source": [
        "### MNIST 데이터셋 다운로드\n",
        "- 케라스에서 제공하는 데이터셋은 전부 tf.keras.datasets를 통해 접근 가능   \n",
        "- load_data() 함수는 (x_train, y_train), (x_test, y_test) 형태로 분할해서 제공"
      ]
    },
    {
      "cell_type": "code",
      "metadata": {
        "id": "LCPMeneAiiMX"
      },
      "source": [
        "from tensorflow.keras.datasets.mnist import load_data\n",
        "\n",
        "# 텐서플로우 저장소에서 데이터를 다운받습니다.\n",
        "# npz는 npy라는 numpy형태의 자료를 압축한자료(2개이상의 npy자료), csv로 갖고다녀도 되나(numpy가 속도가 더 빠름)\n",
        "\n",
        "# x_train <- [0][0], y_train <- [0][1]  /   x_test <- [1][0], y_test<-[1][1]\n",
        "(x_train, y_train), (x_test, y_test) = load_data(path='mnist.npz')"
      ],
      "execution_count": 76,
      "outputs": []
    },
    {
      "cell_type": "code",
      "metadata": {
        "colab": {
          "base_uri": "https://localhost:8080/"
        },
        "id": "Z2CyrikcyRtT",
        "outputId": "b6c7f6fc-3747-4fe5-8334-da4ab3d28a24"
      },
      "source": [
        "# 데이터의 불균형을 확인해양함\n",
        "np.unique(y_train)  # 이 자료의 value Count를 확인해야함."
      ],
      "execution_count": 77,
      "outputs": [
        {
          "output_type": "execute_result",
          "data": {
            "text/plain": [
              "array([0, 1, 2, 3, 4, 5, 6, 7, 8, 9], dtype=uint8)"
            ]
          },
          "metadata": {},
          "execution_count": 77
        }
      ]
    },
    {
      "cell_type": "code",
      "metadata": {
        "colab": {
          "base_uri": "https://localhost:8080/"
        },
        "id": "fGJWq_FjiitP",
        "outputId": "ee66f8b8-fdfb-4969-fd1d-b2afd2d6327f"
      },
      "source": [
        "tmp=load_data(path='mnist.npz')\n",
        "np.shape(tmp)"
      ],
      "execution_count": 25,
      "outputs": [
        {
          "output_type": "stream",
          "name": "stderr",
          "text": [
            "/usr/local/lib/python3.7/dist-packages/numpy/core/_asarray.py:83: VisibleDeprecationWarning: Creating an ndarray from ragged nested sequences (which is a list-or-tuple of lists-or-tuples-or ndarrays with different lengths or shapes) is deprecated. If you meant to do this, you must specify 'dtype=object' when creating the ndarray\n",
            "  return array(a, dtype, copy=False, order=order)\n"
          ]
        },
        {
          "output_type": "execute_result",
          "data": {
            "text/plain": [
              "(2, 2)"
            ]
          },
          "metadata": {},
          "execution_count": 25
        }
      ]
    },
    {
      "cell_type": "code",
      "metadata": {
        "colab": {
          "base_uri": "https://localhost:8080/"
        },
        "id": "WiUptSQ8iqb4",
        "outputId": "e04c0366-0905-48a9-d3a2-79f5a85df427"
      },
      "source": [
        "#tmp[0][0]   # x_train\n",
        "tmp[0][1]  # x_train의 레이블\n",
        "#tmp[1][0]  # \n",
        "#tmp[1][1]"
      ],
      "execution_count": 33,
      "outputs": [
        {
          "output_type": "execute_result",
          "data": {
            "text/plain": [
              "array([5, 0, 4, ..., 5, 6, 8], dtype=uint8)"
            ]
          },
          "metadata": {},
          "execution_count": 33
        }
      ]
    },
    {
      "cell_type": "code",
      "metadata": {
        "colab": {
          "base_uri": "https://localhost:8080/",
          "height": 283
        },
        "id": "uN5MeOn1jOf1",
        "outputId": "e751235c-6cd1-4934-f197-2ee29ac362c8"
      },
      "source": [
        "plt.imshow(tmp[0][0][0], cmap='gray')     # x_train의 첫번째 이미지"
      ],
      "execution_count": 32,
      "outputs": [
        {
          "output_type": "execute_result",
          "data": {
            "text/plain": [
              "<matplotlib.image.AxesImage at 0x7f1f4e37ab10>"
            ]
          },
          "metadata": {},
          "execution_count": 32
        },
        {
          "output_type": "display_data",
          "data": {
            "image/png": "[encoded data removed]",
            "text/plain": [
              "<Figure size 432x288 with 1 Axes>"
            ]
          },
          "metadata": {
            "needs_background": "light"
          }
        }
      ]
    },
    {
      "cell_type": "code",
      "metadata": {
        "id": "-h_d6x9VjvfZ"
      },
      "source": [
        "# list(tmp)   # npz의 내용물을 확인할 수도 있음"
      ],
      "execution_count": 35,
      "outputs": []
    },
    {
      "cell_type": "code",
      "metadata": {
        "colab": {
          "base_uri": "https://localhost:8080/",
          "height": 489
        },
        "id": "FG1uiUJbmikq",
        "outputId": "7e3e5773-541b-48e0-f68d-4cfca3fc1166"
      },
      "source": [
        "## 컬러이미지\n",
        "color=np.array([\n",
        "    [[255,0,0],[255,195,0],[0,205,0],[255,240,0]],\n",
        "    [[255,0,0],[0,5,0],[200,205,0],[210,240,0]]\n",
        "])\n",
        "\n",
        "plt.imshow(color)\n",
        "plt.show()\n",
        "\n",
        "plt.imshow(color[0],cmap='gray')"
      ],
      "execution_count": 48,
      "outputs": [
        {
          "output_type": "display_data",
          "data": {
            "image/png": "[encoded data removed]",
            "text/plain": [
              "<Figure size 432x288 with 1 Axes>"
            ]
          },
          "metadata": {
            "needs_background": "light"
          }
        },
        {
          "output_type": "execute_result",
          "data": {
            "text/plain": [
              "<matplotlib.image.AxesImage at 0x7f1f46368d10>"
            ]
          },
          "metadata": {},
          "execution_count": 48
        },
        {
          "output_type": "display_data",
          "data": {
            "image/png": "[encoded data removed]",
            "text/plain": [
              "<Figure size 432x288 with 1 Axes>"
            ]
          },
          "metadata": {
            "needs_background": "light"
          }
        }
      ]
    },
    {
      "cell_type": "markdown",
      "metadata": {
        "id": "hFLEvKhDkoYp"
      },
      "source": [
        "### 데이터 형태 확인\n",
        "- 데이터, 레이블가 어떻게 구성되어 있는지 확인해보는 과정은\n",
        "필수!\n",
        "- 제공되는 코드를 통해 데이터를 그려보세요."
      ]
    },
    {
      "cell_type": "code",
      "metadata": {
        "colab": {
          "base_uri": "https://localhost:8080/"
        },
        "id": "rqCLA82lkJIr",
        "outputId": "09f183f8-f8e0-43b9-fa1d-aa2699b60bac"
      },
      "source": [
        "# 훈련 데이터\n",
        "print('#######훈련데이터#######\\n',x_train.shape, y_train.shape)\n",
        "print(y_train)\n",
        "\n",
        "print('\\n')\n",
        "\n",
        "# 테스트 데이터\n",
        "print('#######테스트데이터#######\\n',x_test.shape, y_test.shape)\n",
        "print(y_test)"
      ],
      "execution_count": 80,
      "outputs": [
        {
          "output_type": "stream",
          "name": "stdout",
          "text": [
            "#######훈련데이터#######\n",
            " (60000, 28, 28) (60000,)\n",
            "[5 0 4 ... 5 6 8]\n",
            "\n",
            "\n",
            "#######테스트데이터#######\n",
            " (10000, 28, 28) (10000,)\n",
            "[7 2 1 ... 4 5 6]\n"
          ]
        }
      ]
    },
    {
      "cell_type": "code",
      "metadata": {
        "colab": {
          "base_uri": "https://localhost:8080/",
          "height": 549
        },
        "id": "2pQzE-rJknAz",
        "outputId": "054c41fd-e7bb-48c9-e646-1860ccda2bc8"
      },
      "source": [
        "import matplotlib.pyplot as plt\n",
        "import numpy as np\n",
        "np.random.seed(777)\n",
        "\n",
        "sample_size = 2\n",
        "# 0~59999의 범위에서 무작위로 3개의 정수를 뽑습니다.\n",
        "random_idx = np.random.randint(60000, size = sample_size) \n",
        "\n",
        "for idx in random_idx:\n",
        "    img = x_train[idx, :]\n",
        "    label = y_train[idx]\n",
        "    plt.figure()\n",
        "    plt.imshow(img)\n",
        "    plt.title('%d-th data, label is %d' % (idx,label), fontsize = 15)"
      ],
      "execution_count": 81,
      "outputs": [
        {
          "output_type": "display_data",
          "data": {
            "image/png": "[encoded data removed]",
            "text/plain": [
              "<Figure size 432x288 with 1 Axes>"
            ]
          },
          "metadata": {
            "needs_background": "light"
          }
        },
        {
          "output_type": "display_data",
          "data": {
            "image/png": "[encoded data removed]",
            "text/plain": [
              "<Figure size 432x288 with 1 Axes>"
            ]
          },
          "metadata": {
            "needs_background": "light"
          }
        }
      ]
    },
    {
      "cell_type": "code",
      "metadata": {
        "colab": {
          "base_uri": "https://localhost:8080/",
          "height": 301
        },
        "id": "qTNAy5_PkqgE",
        "outputId": "e1e0861f-28d3-4d5e-8821-75186c782c89"
      },
      "source": [
        "# 마지막에 예측해볼 데이터\n",
        "img = x_test[0,:]\n",
        "label = y_test[0]\n",
        "plt.figure()\n",
        "plt.imshow(img)\n",
        "plt.title('%d-th data, label is %d' % (idx,label), fontsize = 15)"
      ],
      "execution_count": 82,
      "outputs": [
        {
          "output_type": "execute_result",
          "data": {
            "text/plain": [
              "Text(0.5, 1.0, '15931-th data, label is 7')"
            ]
          },
          "metadata": {},
          "execution_count": 82
        },
        {
          "output_type": "display_data",
          "data": {
            "image/png": "[encoded data removed]",
            "text/plain": [
              "<Figure size 432x288 with 1 Axes>"
            ]
          },
          "metadata": {
            "needs_background": "light"
          }
        }
      ]
    },
    {
      "cell_type": "code",
      "metadata": {
        "colab": {
          "base_uri": "https://localhost:8080/"
        },
        "id": "VNcZgzuJks3I",
        "outputId": "db85551f-99a8-4486-8123-6e518948674d"
      },
      "source": [
        "for i in x_train[4]:\n",
        "  for j in i:\n",
        "    print('{:4}'.format(j), end=\"\")\n",
        "  print('\\n')"
      ],
      "execution_count": 83,
      "outputs": [
        {
          "output_type": "stream",
          "name": "stdout",
          "text": [
            "   0   0   0   0   0   0   0   0   0   0   0   0   0   0   0   0   0   0   0   0   0   0   0   0   0   0   0   0\n",
            "\n",
            "   0   0   0   0   0   0   0   0   0   0   0   0   0   0   0   0   0   0   0   0   0   0   0   0   0   0   0   0\n",
            "\n",
            "   0   0   0   0   0   0   0   0   0   0   0   0   0   0   0   0   0   0   0   0   0   0   0   0   0   0   0   0\n",
            "\n",
            "   0   0   0   0   0   0   0   0   0   0   0   0   0   0   0   0   0   0   0   0   0   0   0   0   0   0   0   0\n",
            "\n",
            "   0   0   0   0   0   0   0   0   0   0   0   0   0   0   0   0   0   0   0   0   0   0   0   0   0   0   0   0\n",
            "\n",
            "   0   0   0   0   0   0   0   0   0   0   0   0   0   0   0   0   0   0   0   0   0   0   0   0   0   0   0   0\n",
            "\n",
            "   0   0   0   0   0   0   0   0   0   0   0   0   0   0   0   0   0   0   0   0   0   0   0   0   0   0   0   0\n",
            "\n",
            "   0   0   0   0   0   0   0   0   0   0   0   0  55 148 210 253 253 113  87 148  55   0   0   0   0   0   0   0\n",
            "\n",
            "   0   0   0   0   0   0   0   0   0   0   0  87 232 252 253 189 210 252 252 253 168   0   0   0   0   0   0   0\n",
            "\n",
            "   0   0   0   0   0   0   0   0   0   4  57 242 252 190  65   5  12 182 252 253 116   0   0   0   0   0   0   0\n",
            "\n",
            "   0   0   0   0   0   0   0   0   0  96 252 252 183  14   0   0  92 252 252 225  21   0   0   0   0   0   0   0\n",
            "\n",
            "   0   0   0   0   0   0   0   0 132 253 252 146  14   0   0   0 215 252 252  79   0   0   0   0   0   0   0   0\n",
            "\n",
            "   0   0   0   0   0   0   0 126 253 247 176   9   0   0   8  78 245 253 129   0   0   0   0   0   0   0   0   0\n",
            "\n",
            "   0   0   0   0   0   0  16 232 252 176   0   0   0  36 201 252 252 169  11   0   0   0   0   0   0   0   0   0\n",
            "\n",
            "   0   0   0   0   0   0  22 252 252  30  22 119 197 241 253 252 251  77   0   0   0   0   0   0   0   0   0   0\n",
            "\n",
            "   0   0   0   0   0   0  16 231 252 253 252 252 252 226 227 252 231   0   0   0   0   0   0   0   0   0   0   0\n",
            "\n",
            "   0   0   0   0   0   0   0  55 235 253 217 138  42  24 192 252 143   0   0   0   0   0   0   0   0   0   0   0\n",
            "\n",
            "   0   0   0   0   0   0   0   0   0   0   0   0   0  62 255 253 109   0   0   0   0   0   0   0   0   0   0   0\n",
            "\n",
            "   0   0   0   0   0   0   0   0   0   0   0   0   0  71 253 252  21   0   0   0   0   0   0   0   0   0   0   0\n",
            "\n",
            "   0   0   0   0   0   0   0   0   0   0   0   0   0   0 253 252  21   0   0   0   0   0   0   0   0   0   0   0\n",
            "\n",
            "   0   0   0   0   0   0   0   0   0   0   0   0   0  71 253 252  21   0   0   0   0   0   0   0   0   0   0   0\n",
            "\n",
            "   0   0   0   0   0   0   0   0   0   0   0   0   0 106 253 252  21   0   0   0   0   0   0   0   0   0   0   0\n",
            "\n",
            "   0   0   0   0   0   0   0   0   0   0   0   0   0  45 255 253  21   0   0   0   0   0   0   0   0   0   0   0\n",
            "\n",
            "   0   0   0   0   0   0   0   0   0   0   0   0   0   0 218 252  56   0   0   0   0   0   0   0   0   0   0   0\n",
            "\n",
            "   0   0   0   0   0   0   0   0   0   0   0   0   0   0  96 252 189  42   0   0   0   0   0   0   0   0   0   0\n",
            "\n",
            "   0   0   0   0   0   0   0   0   0   0   0   0   0   0  14 184 252 170  11   0   0   0   0   0   0   0   0   0\n",
            "\n",
            "   0   0   0   0   0   0   0   0   0   0   0   0   0   0   0  14 147 252  42   0   0   0   0   0   0   0   0   0\n",
            "\n",
            "   0   0   0   0   0   0   0   0   0   0   0   0   0   0   0   0   0   0   0   0   0   0   0   0   0   0   0   0\n",
            "\n"
          ]
        }
      ]
    },
    {
      "cell_type": "markdown",
      "metadata": {
        "id": "8J9SHwpFlCDb"
      },
      "source": [
        "#### 모델 검증을 위해 검증 데이터셋을 만듭니다\n",
        "- train_test_split() 함수 사용\n",
        "- test_size: 테스트 데이터셋 비율\n",
        "- random_state: 재생산성"
      ]
    },
    {
      "cell_type": "code",
      "metadata": {
        "colab": {
          "base_uri": "https://localhost:8080/"
        },
        "id": "1_ibH0EclBPi",
        "outputId": "49f36bd5-4dad-4fca-bcfb-d7f26f5e964a"
      },
      "source": [
        "from sklearn.model_selection import train_test_split\n",
        "\n",
        "# 훈련/테스트 데이터를 0.7/0.3의 비율로 분리합니다.\n",
        "x_train, x_val, y_train, y_val = train_test_split(x_train, y_train, \n",
        "                                                  test_size = 0.3, \n",
        "                                                  random_state = 777)\n",
        "\n",
        "print(f'훈련 데이터:{x_train.shape}, 레이블:{y_train.shape}')\n",
        "print(f'검증 데이터:{x_val.shape}, 레이블:{y_val.shape}')"
      ],
      "execution_count": 84,
      "outputs": [
        {
          "output_type": "stream",
          "name": "stdout",
          "text": [
            "훈련 데이터:(42000, 28, 28), 레이블:(42000,)\n",
            "검증 데이터:(18000, 28, 28), 레이블:(18000,)\n"
          ]
        }
      ]
    },
    {
      "cell_type": "markdown",
      "metadata": {
        "id": "ayNWjS3NlMpj"
      },
      "source": [
        "#### 학습을 위해 전처리를 수행해야 함\n",
        "- 255로 나눠주어 0~1사이로 스케일 조정\n",
        "- 신경망은 스케일에 매우 민감!\n",
        "- Dense 층 사용을 위해 784차원의 1차원 배열로 변환"
      ]
    },
    {
      "cell_type": "code",
      "metadata": {
        "colab": {
          "base_uri": "https://localhost:8080/"
        },
        "id": "tzIbcsLZlNog",
        "outputId": "9eeaa324-765b-42da-df06-e3d2c5fd3e67"
      },
      "source": [
        "num_x_train = x_train.shape[0]\n",
        "num_x_val = x_val.shape[0]\n",
        "num_x_test = x_test.shape[0]\n",
        "\n",
        "# 모델의 입력으로 사용하기 위한 전처리 과정입니다.\n",
        "x_train = (x_train.reshape((num_x_train, 28 * 28))) / 255\n",
        "x_val = (x_val.reshape((num_x_val, 28 * 28))) / 255\n",
        "x_test = (x_test.reshape((num_x_test, 28 * 28))) / 255\n",
        "\n",
        "print(x_train.shape) # 모델 입력을 위해 데이터를 784차원으로 변경합니다.(현재 인공신경망은 CNN이 아니라 완전연결 층만 사용하기 때문)"
      ],
      "execution_count": 85,
      "outputs": [
        {
          "output_type": "stream",
          "name": "stdout",
          "text": [
            "(42000, 784)\n"
          ]
        }
      ]
    },
    {
      "cell_type": "markdown",
      "metadata": {
        "id": "MmUBicHDlea2"
      },
      "source": [
        "### 모델 입력을 위한 레이블 전처리\n",
        " - 모델 마지막 층에서 소프트맥스 함수를 사용하므로 범주형 레이블로 변환\n",
        "  - to_categorical()함수"
      ]
    },
    {
      "cell_type": "code",
      "metadata": {
        "colab": {
          "base_uri": "https://localhost:8080/"
        },
        "id": "bghkDZvolhOn",
        "outputId": "09d2194f-d4e7-4e0a-ecc4-c43bd6eda7e0"
      },
      "source": [
        "from tensorflow.keras.utils import to_categorical\n",
        "\n",
        "# 각 데이터의 레이블을 범주형 형태로 변경합니다.\n",
        "y_train = to_categorical(y_train)\n",
        "y_val = to_categorical(y_val)\n",
        "y_test = to_categorical(y_test)\n",
        "\n",
        "print(y_train)"
      ],
      "execution_count": 86,
      "outputs": [
        {
          "output_type": "stream",
          "name": "stdout",
          "text": [
            "[[0. 0. 1. ... 0. 0. 0.]\n",
            " [0. 0. 0. ... 1. 0. 0.]\n",
            " [0. 0. 0. ... 0. 0. 0.]\n",
            " ...\n",
            " [0. 0. 0. ... 0. 0. 0.]\n",
            " [0. 0. 0. ... 0. 0. 0.]\n",
            " [0. 0. 0. ... 0. 0. 0.]]\n"
          ]
        }
      ]
    },
    {
      "cell_type": "code",
      "metadata": {
        "colab": {
          "base_uri": "https://localhost:8080/"
        },
        "id": "XIjDX-6hmqwK",
        "outputId": "327f3412-4895-4e3b-8b3d-2636c2aaf0c0"
      },
      "source": [
        "np.unique(y_train)"
      ],
      "execution_count": 87,
      "outputs": [
        {
          "output_type": "execute_result",
          "data": {
            "text/plain": [
              "array([0., 1.], dtype=float32)"
            ]
          },
          "metadata": {},
          "execution_count": 87
        }
      ]
    },
    {
      "cell_type": "code",
      "metadata": {
        "colab": {
          "base_uri": "https://localhost:8080/"
        },
        "id": "KjnDkQfRm1BD",
        "outputId": "85eec6d7-9f4d-4f2d-f327-7ba8e3693520"
      },
      "source": [
        "# 아래의 숫자가 모델이 최종 dense의 units의 숫자와 맞아야함\n",
        "print(len(y_train[0]))\n",
        "y_train.shape[1]"
      ],
      "execution_count": 88,
      "outputs": [
        {
          "output_type": "stream",
          "name": "stdout",
          "text": [
            "10\n"
          ]
        },
        {
          "output_type": "execute_result",
          "data": {
            "text/plain": [
              "10"
            ]
          },
          "metadata": {},
          "execution_count": 88
        }
      ]
    },
    {
      "cell_type": "markdown",
      "metadata": {
        "id": "25yKn3Dhmx0k"
      },
      "source": [
        "### 시그모이드, 소프트맥스 함수\n",
        " - 소프트맥스 함수는 출력값의 범위 안에서 확률로써 해ㅐ석할 수 있기에, 결과의 해석이 더욱 용이함\n",
        "  - 다른표현: 일반적으로 확률을 구하는 방법과 비슷하므로 각 클래스에 해당하는 값들이 서로 영향을 줄 수 있어 비교에 용이"
      ]
    },
    {
      "cell_type": "code",
      "metadata": {
        "colab": {
          "base_uri": "https://localhost:8080/"
        },
        "id": "7oBnpti1mtLn",
        "outputId": "4c40e623-12aa-4c3f-b5a1-fa78396fa6ac"
      },
      "source": [
        "# 소프트맥스 함수\n",
        "def softmax(arr):\n",
        "    m = np.max(arr)\n",
        "    arr = arr - m # exp의 오버플로우 방지\n",
        "    arr = np.exp(arr)\n",
        "    return arr / np.sum(arr)\n",
        "\n",
        "# 시그모이드 함수\n",
        "def sigmoid(x):\n",
        "    return 1 / (1 + np.exp(-x))\n",
        "\n",
        "case_1 = np.array([3.1, 3.0, 2.9])\n",
        "case_2 = np.array([2.0, 1.0, 0.7])\n",
        "\n",
        "np.set_printoptions(precision=3) # numpy 소수점 제한\n",
        "print(f'sigmoid {sigmoid(case_1)}, softmax {softmax(case_1)}')\n",
        "print(f'sigmoid {sigmoid(case_2)}, softmax {softmax(case_2)}')"
      ],
      "execution_count": 89,
      "outputs": [
        {
          "output_type": "stream",
          "name": "stdout",
          "text": [
            "sigmoid [0.957 0.953 0.948], softmax [0.367 0.332 0.301]\n",
            "sigmoid [0.881 0.731 0.668], softmax [0.61  0.224 0.166]\n"
          ]
        }
      ]
    },
    {
      "cell_type": "code",
      "metadata": {
        "id": "8EfaTVGdnIjn"
      },
      "source": [
        "from tensorflow.keras.models import Sequential\n",
        "from tensorflow.keras.layers import Dense\n",
        "\n",
        "model = Sequential()\n",
        "# 입력 데이터의 형태를 꼭 명시해야 합니다.\n",
        "# 784차원의 데이터를 입력으로 받고, 64개의 출력을 가지는 첫 번째 Dense 층\n",
        "model.add(Dense(64, activation = 'relu', input_shape = (784, )))\n",
        "model.add(Dense(32, activation = 'relu')) # 32개의 출력을 가지는 Dense 층\n",
        "model.add(Dense(10, activation = 'softmax')) # 10개의 출력을 가지는 신경망"
      ],
      "execution_count": 90,
      "outputs": []
    },
    {
      "cell_type": "markdown",
      "metadata": {
        "id": "KNaY-F-SncFA"
      },
      "source": [
        "### 학습과정 설정하기\n",
        " - 모델 구성의 마지막 단계는 손실 함수, 옵티마이저, 평가지표를 설정하는 것\n",
        "  - 다중 분류 문제엥서 손실 함수는 categorical_crossentropy 함수를 사용\n",
        "  - 크로스 엔트로피는 정보이론에서 파생된 개념\n",
        "  - 서로의 결과값이 틀린 경우 로그 함수의 특징대로 무한대로 발산하고, 동일한 경우 0으로 수렴\n",
        "  - 옵티마이ㅣ저는 Adam, 평가지표는 정확도(Acc)를 사용합니다.\n",
        "\n"
      ]
    },
    {
      "cell_type": "code",
      "metadata": {
        "id": "SN1j_qJknyQS"
      },
      "source": [
        "model.compile(optimizer='adam', # 옵티마이저 : Adam\n",
        "              loss = 'categorical_crossentropy', # 손실 함수 : categorical_crossentropy\n",
        "              metrics=['acc']) # 모니터링 할 평가지표 : acc"
      ],
      "execution_count": 91,
      "outputs": []
    },
    {
      "cell_type": "code",
      "metadata": {
        "colab": {
          "base_uri": "https://localhost:8080/"
        },
        "id": "3eLFhNnaoUfj",
        "outputId": "bd233a7a-ad8c-4311-e058-3ae5cc9a5168"
      },
      "source": [
        "model.summary()     # Param의 갯수가 많을 수록 w, b계산을 많이함"
      ],
      "execution_count": 92,
      "outputs": [
        {
          "output_type": "stream",
          "name": "stdout",
          "text": [
            "Model: \"sequential_1\"\n",
            "_________________________________________________________________\n",
            "Layer (type)                 Output Shape              Param #   \n",
            "=================================================================\n",
            "dense_3 (Dense)              (None, 64)                50240     \n",
            "_________________________________________________________________\n",
            "dense_4 (Dense)              (None, 32)                2080      \n",
            "_________________________________________________________________\n",
            "dense_5 (Dense)              (None, 10)                330       \n",
            "=================================================================\n",
            "Total params: 52,650\n",
            "Trainable params: 52,650\n",
            "Non-trainable params: 0\n",
            "_________________________________________________________________\n"
          ]
        }
      ]
    },
    {
      "cell_type": "markdown",
      "metadata": {
        "id": "tlaNRmAtp7jh"
      },
      "source": [
        "### 모델 학습하기\n",
        "- validation_data에 검증 데이터셋을 전달하고, 128 배치크기를 사용하며, 전체 데이터를 30회 반복\n",
        "\n",
        "- 최적의 모델 사용법\n",
        "- [방법1]학습된 모델은 오버피팅을 보소 학습 횟수를 다시 조정해서 작업완료하고 h5모델로 저장\n",
        "- [방법2] 에포크단위로 h5모델로 저장함, 추후에 필요한 에포크 단위의 모델만 사용"
      ]
    },
    {
      "cell_type": "code",
      "metadata": {
        "colab": {
          "base_uri": "https://localhost:8080/"
        },
        "id": "K688S1SZoG9p",
        "outputId": "55f62eb3-b19b-4315-a91d-5cbb12665008"
      },
      "source": [
        "history = model.fit(x_train, y_train, \n",
        "                    epochs = 30, \n",
        "                    batch_size = 128, # 42,000개의 train데이터를 / 128\n",
        "                    validation_data = (x_val, y_val))"
      ],
      "execution_count": 93,
      "outputs": [
        {
          "output_type": "stream",
          "name": "stdout",
          "text": [
            "Epoch 1/30\n",
            "329/329 [==============================] - 2s 4ms/step - loss: 0.5019 - acc: 0.8589 - val_loss: 0.2510 - val_acc: 0.9277\n",
            "Epoch 2/30\n",
            "329/329 [==============================] - 1s 4ms/step - loss: 0.2100 - acc: 0.9391 - val_loss: 0.1956 - val_acc: 0.9421\n",
            "Epoch 3/30\n",
            "329/329 [==============================] - 1s 4ms/step - loss: 0.1621 - acc: 0.9523 - val_loss: 0.1671 - val_acc: 0.9499\n",
            "Epoch 4/30\n",
            "329/329 [==============================] - 1s 3ms/step - loss: 0.1287 - acc: 0.9616 - val_loss: 0.1520 - val_acc: 0.9561\n",
            "Epoch 5/30\n",
            "329/329 [==============================] - 1s 4ms/step - loss: 0.1094 - acc: 0.9678 - val_loss: 0.1362 - val_acc: 0.9599\n",
            "Epoch 6/30\n",
            "329/329 [==============================] - 1s 4ms/step - loss: 0.0927 - acc: 0.9726 - val_loss: 0.1257 - val_acc: 0.9624\n",
            "Epoch 7/30\n",
            "329/329 [==============================] - 1s 4ms/step - loss: 0.0788 - acc: 0.9773 - val_loss: 0.1210 - val_acc: 0.9652\n",
            "Epoch 8/30\n",
            "329/329 [==============================] - 1s 4ms/step - loss: 0.0687 - acc: 0.9800 - val_loss: 0.1134 - val_acc: 0.9650\n",
            "Epoch 9/30\n",
            "329/329 [==============================] - 1s 3ms/step - loss: 0.0626 - acc: 0.9810 - val_loss: 0.1145 - val_acc: 0.9667\n",
            "Epoch 10/30\n",
            "329/329 [==============================] - 1s 4ms/step - loss: 0.0555 - acc: 0.9829 - val_loss: 0.1098 - val_acc: 0.9674\n",
            "Epoch 11/30\n",
            "329/329 [==============================] - 1s 4ms/step - loss: 0.0480 - acc: 0.9853 - val_loss: 0.1161 - val_acc: 0.9668\n",
            "Epoch 12/30\n",
            "329/329 [==============================] - 1s 4ms/step - loss: 0.0414 - acc: 0.9878 - val_loss: 0.1196 - val_acc: 0.9656\n",
            "Epoch 13/30\n",
            "329/329 [==============================] - 1s 4ms/step - loss: 0.0371 - acc: 0.9892 - val_loss: 0.1088 - val_acc: 0.9699\n",
            "Epoch 14/30\n",
            "329/329 [==============================] - 1s 4ms/step - loss: 0.0324 - acc: 0.9904 - val_loss: 0.1043 - val_acc: 0.9712\n",
            "Epoch 15/30\n",
            "329/329 [==============================] - 1s 4ms/step - loss: 0.0277 - acc: 0.9919 - val_loss: 0.1120 - val_acc: 0.9693\n",
            "Epoch 16/30\n",
            "329/329 [==============================] - 1s 4ms/step - loss: 0.0254 - acc: 0.9926 - val_loss: 0.1108 - val_acc: 0.9701\n",
            "Epoch 17/30\n",
            "329/329 [==============================] - 1s 3ms/step - loss: 0.0218 - acc: 0.9942 - val_loss: 0.1156 - val_acc: 0.9689\n",
            "Epoch 18/30\n",
            "329/329 [==============================] - 1s 4ms/step - loss: 0.0214 - acc: 0.9940 - val_loss: 0.1189 - val_acc: 0.9687\n",
            "Epoch 19/30\n",
            "329/329 [==============================] - 1s 4ms/step - loss: 0.0192 - acc: 0.9944 - val_loss: 0.1246 - val_acc: 0.9660\n",
            "Epoch 20/30\n",
            "329/329 [==============================] - 1s 4ms/step - loss: 0.0157 - acc: 0.9961 - val_loss: 0.1237 - val_acc: 0.9687\n",
            "Epoch 21/30\n",
            "329/329 [==============================] - 1s 4ms/step - loss: 0.0141 - acc: 0.9965 - val_loss: 0.1305 - val_acc: 0.9672\n",
            "Epoch 22/30\n",
            "329/329 [==============================] - 1s 4ms/step - loss: 0.0157 - acc: 0.9957 - val_loss: 0.1322 - val_acc: 0.9673\n",
            "Epoch 23/30\n",
            "329/329 [==============================] - 1s 4ms/step - loss: 0.0114 - acc: 0.9972 - val_loss: 0.1467 - val_acc: 0.9658\n",
            "Epoch 24/30\n",
            "329/329 [==============================] - 1s 4ms/step - loss: 0.0094 - acc: 0.9981 - val_loss: 0.1316 - val_acc: 0.9696\n",
            "Epoch 25/30\n",
            "329/329 [==============================] - 1s 3ms/step - loss: 0.0072 - acc: 0.9986 - val_loss: 0.1317 - val_acc: 0.9703\n",
            "Epoch 26/30\n",
            "329/329 [==============================] - 1s 4ms/step - loss: 0.0090 - acc: 0.9979 - val_loss: 0.1374 - val_acc: 0.9694\n",
            "Epoch 27/30\n",
            "329/329 [==============================] - 1s 3ms/step - loss: 0.0091 - acc: 0.9979 - val_loss: 0.1446 - val_acc: 0.9685\n",
            "Epoch 28/30\n",
            "329/329 [==============================] - 1s 4ms/step - loss: 0.0068 - acc: 0.9983 - val_loss: 0.1433 - val_acc: 0.9682\n",
            "Epoch 29/30\n",
            "329/329 [==============================] - 1s 4ms/step - loss: 0.0138 - acc: 0.9955 - val_loss: 0.1465 - val_acc: 0.9688\n",
            "Epoch 30/30\n",
            "329/329 [==============================] - 1s 4ms/step - loss: 0.0068 - acc: 0.9984 - val_loss: 0.1394 - val_acc: 0.9708\n"
          ]
        }
      ]
    },
    {
      "cell_type": "markdown",
      "metadata": {
        "id": "9COzmY98po1N"
      },
      "source": [
        "### 학습 결과 그리기\n",
        "- model.fit() 함수는 History 객체를 전달합니다. 이를 활용하여 학습 과정을 손쉽게 모니터링 할 수 있음\n",
        "\n"
      ]
    },
    {
      "cell_type": "code",
      "metadata": {
        "colab": {
          "base_uri": "https://localhost:8080/",
          "height": 350
        },
        "id": "0wt0KOUzpXYt",
        "outputId": "1efdb76c-7b97-4f20-b686-296b5b491ba8"
      },
      "source": [
        "import matplotlib.pyplot as plt\n",
        "\n",
        "his_dict = history.history\n",
        "loss = his_dict['loss']\n",
        "val_loss = his_dict['val_loss'] # 검증 데이터가 있는 경우 ‘val_’ 수식어가 붙습니다.\n",
        "\n",
        "epochs = range(1, len(loss) + 1)\n",
        "fig = plt.figure(figsize = (10, 5))\n",
        "\n",
        "# 훈련 및 검증 손실 그리기\n",
        "ax1 = fig.add_subplot(1, 2, 1)\n",
        "ax1.plot(epochs, loss, color = 'blue', label = 'train_loss')\n",
        "ax1.plot(epochs, val_loss, color = 'orange', label = 'val_loss')\n",
        "ax1.set_title('train and val loss')\n",
        "ax1.set_xlabel('epochs')\n",
        "ax1.set_ylabel('loss')\n",
        "ax1.legend()\n",
        "\n",
        "acc = his_dict['acc']\n",
        "val_acc = his_dict['val_acc']\n",
        "\n",
        "# 훈련 및 검증 정확도 그리기\n",
        "ax2 = fig.add_subplot(1, 2, 2)\n",
        "ax2.plot(epochs, acc, color = 'blue', label = 'train_accuracy')\n",
        "ax2.plot(epochs, val_acc, color = 'orange', label = 'val_accuracy')\n",
        "ax2.set_title('train and val accuracy')\n",
        "ax2.set_xlabel('epochs')\n",
        "ax2.set_ylabel('accuracy')\n",
        "ax2.legend()\n",
        "\n",
        "plt.show()"
      ],
      "execution_count": 94,
      "outputs": [
        {
          "output_type": "display_data",
          "data": {
            "image/png": "[encoded data removed]",
            "text/plain": [
              "<Figure size 720x360 with 2 Axes>"
            ]
          },
          "metadata": {
            "needs_background": "light"
          }
        }
      ]
    },
    {
      "cell_type": "markdown",
      "metadata": {
        "id": "WD6O_SMFqG31"
      },
      "source": [
        "- 두 그래프가 어디서부터 벌어지나요?\n",
        "  - 과대적합 문제가 나타난 것\n",
        "  - 데이터 특성, 모델 구조 등을 수정해보고 재학습\n",
        "  - 벌어지기 전까지의 모델을 사용하여 결과를 확인하고 이를 저장 및 기록\n"
      ]
    },
    {
      "cell_type": "markdown",
      "metadata": {
        "id": "wjQ11W_FqKAg"
      },
      "source": [
        "### 모델평가"
      ]
    },
    {
      "cell_type": "code",
      "metadata": {
        "colab": {
          "base_uri": "https://localhost:8080/"
        },
        "id": "-IcGzxtOqHPt",
        "outputId": "b7ca126d-b884-4aa9-80b7-527ed2d4eb0e"
      },
      "source": [
        "model.evaluate(x_test, y_test)"
      ],
      "execution_count": 95,
      "outputs": [
        {
          "output_type": "stream",
          "name": "stdout",
          "text": [
            "313/313 [==============================] - 0s 1ms/step - loss: 0.1400 - acc: 0.9725\n"
          ]
        },
        {
          "output_type": "execute_result",
          "data": {
            "text/plain": [
              "[0.1399671733379364, 0.9725000262260437]"
            ]
          },
          "metadata": {},
          "execution_count": 95
        }
      ]
    },
    {
      "cell_type": "markdown",
      "metadata": {
        "id": "U0CXdJZHq46X"
      },
      "source": [
        "### 학습된 모델을 통해 값 예측하기"
      ]
    },
    {
      "cell_type": "code",
      "metadata": {
        "colab": {
          "base_uri": "https://localhost:8080/"
        },
        "id": "eCBZKJoWqOlw",
        "outputId": "a068ea4b-b760-4e83-c525-f231559e2191"
      },
      "source": [
        "import numpy as np\n",
        "np.set_printoptions(precision=7) # numpy 소수점 제한\n",
        "\n",
        "results = model.predict(x_test)\n",
        "\n",
        "print(results.shape)\n",
        "print(f'각 클래스에 속할 확률 : \\n{results[0]}')"
      ],
      "execution_count": 96,
      "outputs": [
        {
          "output_type": "stream",
          "name": "stdout",
          "text": [
            "(10000, 10)\n",
            "각 클래스에 속할 확률 : \n",
            "[8.1066398e-10 1.1096624e-16 1.8531789e-11 1.0005656e-06 3.3662164e-16\n",
            " 3.6095831e-13 6.8043935e-20 9.9999905e-01 4.0161159e-11 7.9764879e-09]\n"
          ]
        }
      ]
    },
    {
      "cell_type": "markdown",
      "metadata": {
        "id": "GJP270v-rCd2"
      },
      "source": [
        "### 예측값 그려서 확인해보기"
      ]
    },
    {
      "cell_type": "code",
      "metadata": {
        "colab": {
          "base_uri": "https://localhost:8080/",
          "height": 283
        },
        "id": "qtq1qg-crBKy",
        "outputId": "dda29de0-79f2-4e9a-ebe6-97bca0dde814"
      },
      "source": [
        "import matplotlib.pyplot as plt\n",
        "\n",
        "arg_results = np.argmax(results, axis = -1) # 가장 큰 값의 인덱스를 가져옵니다.\n",
        "plt.imshow(x_test[0].reshape(28, 28))\n",
        "plt.title('Predicted value of the first image : ' + str(arg_results[0]), fontsize = 15)\n",
        "plt.show()"
      ],
      "execution_count": 60,
      "outputs": [
        {
          "output_type": "display_data",
          "data": {
            "image/png": "[encoded data removed]",
            "text/plain": [
              "<Figure size 432x288 with 1 Axes>"
            ]
          },
          "metadata": {
            "needs_background": "light"
          }
        }
      ]
    },
    {
      "cell_type": "code",
      "metadata": {
        "colab": {
          "base_uri": "https://localhost:8080/",
          "height": 355
        },
        "id": "pFrd3dsxrK8n",
        "outputId": "89158441-db87-4bb0-899f-ad192c02c448"
      },
      "source": [
        "x_test[0].shape\n",
        "\n",
        "x_test_img=x_test.reshape(10000,28,28)\n",
        "\n",
        "print('------------실제값----------')\n",
        "plt.imshow(x_test_img[0])\n",
        "print(y_test[0], np.argmax(y_test[0]))\n",
        "\n",
        "print('------------예측값-----------')\n",
        "y_pred=model.predict(x_test[:1])        # 텐서에 들어갈때모습=>[행렬] (참고: 스칼라->벡터->행렬->텐서)\n",
        "print(y_pred, np.argmax(y_pred))"
      ],
      "execution_count": 97,
      "outputs": [
        {
          "output_type": "stream",
          "name": "stdout",
          "text": [
            "------------실제값----------\n",
            "[0. 0. 0. 0. 0. 0. 0. 1. 0. 0.] 7\n",
            "------------예측값-----------\n",
            "[[8.1065937e-10 1.1096539e-16 1.8531681e-11 1.0005580e-06 3.3661907e-16\n",
            "  3.6095625e-13 6.8043677e-20 9.9999905e-01 4.0161079e-11 7.9764266e-09]] 7\n"
          ]
        },
        {
          "output_type": "display_data",
          "data": {
            "image/png": "[encoded data removed]",
            "text/plain": [
              "<Figure size 432x288 with 1 Axes>"
            ]
          },
          "metadata": {
            "needs_background": "light"
          }
        }
      ]
    },
    {
      "cell_type": "code",
      "metadata": {
        "colab": {
          "base_uri": "https://localhost:8080/",
          "height": 355
        },
        "id": "u5GSJe-7s8YY",
        "outputId": "94155ad0-2a64-41d2-c810-fd4aa6963bc6"
      },
      "source": [
        "x_test[0].shape\n",
        "\n",
        "x_test_img=x_test.reshape(10000,28,28)\n",
        "\n",
        "num=8\n",
        "print('------------실제값-----------')\n",
        "plt.imshow(x_test_img[num])\n",
        "print(y_test[num], np.argmax(y_test[num]))\n",
        "\n",
        "print('------------예측값-----------')\n",
        "y_pred=model.predict(x_test[num:num+1])        # 텐서에 들어갈때모습=>[행렬] (참고: 스칼라->벡터->행렬->텐서)\n",
        "print(y_pred, np.argmax(y_pred))"
      ],
      "execution_count": 98,
      "outputs": [
        {
          "output_type": "stream",
          "name": "stdout",
          "text": [
            "------------실제값-----------\n",
            "[0. 0. 0. 0. 0. 1. 0. 0. 0. 0.] 5\n",
            "------------예측값-----------\n",
            "[[8.5981801e-19 3.9706623e-12 2.2121796e-11 1.6092159e-14 7.0082785e-12\n",
            "  9.9977726e-01 2.2273914e-04 1.0776748e-13 2.7539487e-10 6.4226996e-12]] 5\n"
          ]
        },
        {
          "output_type": "display_data",
          "data": {
            "image/png": "[encoded data removed]",
            "text/plain": [
              "<Figure size 432x288 with 1 Axes>"
            ]
          },
          "metadata": {
            "needs_background": "light"
          }
        }
      ]
    },
    {
      "cell_type": "markdown",
      "metadata": {
        "id": "Vqs9rjhbszTX"
      },
      "source": [
        "### 모델 평가 방법 1 - 혼동 행렬"
      ]
    },
    {
      "cell_type": "code",
      "metadata": {
        "colab": {
          "base_uri": "https://localhost:8080/",
          "height": 447
        },
        "id": "yMpphgeyvofB",
        "outputId": "121570e4-de0d-4661-b587-2d890f1df59f"
      },
      "source": [
        "# sklearn.metrics 모듈은 여러가지 평가 지표에 관한 기능을 제공합니다.\n",
        "from sklearn.metrics import classification_report, confusion_matrix\n",
        "import matplotlib.pyplot as plt\n",
        "import seaborn as sns\n",
        "\n",
        "# 혼동 행렬을 만듭니다.\n",
        "plt.figure(figsize = (7, 7))\n",
        "cm = confusion_matrix(np.argmax(y_test, axis = -1), np.argmax(results, axis = -1))\n",
        "sns.heatmap(cm, annot = True, fmt = 'd',cmap = 'Blues')\n",
        "plt.xlabel('predicted label', fontsize = 15)\n",
        "plt.ylabel('true label', fontsize = 15)\n",
        "plt.show()"
      ],
      "execution_count": 99,
      "outputs": [
        {
          "output_type": "display_data",
          "data": {
            "image/png": "[encoded data removed]",
            "text/plain": [
              "<Figure size 504x504 with 2 Axes>"
            ]
          },
          "metadata": {
            "needs_background": "light"
          }
        }
      ]
    },
    {
      "cell_type": "markdown",
      "metadata": {
        "id": "8Kcu1cvJs2Fq"
      },
      "source": [
        "### 모델 평가 방법 2 - 분류 보고서"
      ]
    },
    {
      "cell_type": "code",
      "metadata": {
        "colab": {
          "base_uri": "https://localhost:8080/"
        },
        "id": "lXnsOEamrFPT",
        "outputId": "dabe9892-601a-4dc4-d0d7-383407d69763"
      },
      "source": [
        "print('\\n', classification_report(np.argmax(y_test, axis = -1), np.argmax(results, axis = -1)))"
      ],
      "execution_count": 100,
      "outputs": [
        {
          "output_type": "stream",
          "name": "stdout",
          "text": [
            "\n",
            "               precision    recall  f1-score   support\n",
            "\n",
            "           0       0.98      0.99      0.99       980\n",
            "           1       0.98      0.99      0.99      1135\n",
            "           2       0.96      0.97      0.97      1032\n",
            "           3       0.95      0.98      0.96      1010\n",
            "           4       0.97      0.98      0.97       982\n",
            "           5       0.98      0.95      0.96       892\n",
            "           6       0.98      0.97      0.98       958\n",
            "           7       0.98      0.97      0.97      1028\n",
            "           8       0.97      0.95      0.96       974\n",
            "           9       0.98      0.96      0.97      1009\n",
            "\n",
            "    accuracy                           0.97     10000\n",
            "   macro avg       0.97      0.97      0.97     10000\n",
            "weighted avg       0.97      0.97      0.97     10000\n",
            "\n"
          ]
        }
      ]
    },
    {
      "cell_type": "code",
      "metadata": {
        "id": "wCbXbxzqyhim"
      },
      "source": [
        ""
      ],
      "execution_count": null,
      "outputs": []
    }
  ]
}