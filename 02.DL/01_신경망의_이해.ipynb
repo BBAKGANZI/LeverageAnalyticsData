{
  "nbformat": 4,
  "nbformat_minor": 0,
  "metadata": {
    "colab": {
      "name": "01. 신경망의 이해.ipynb",
      "provenance": [],
      "collapsed_sections": []
    },
    "kernelspec": {
      "name": "python3",
      "display_name": "Python 3"
    },
    "language_info": {
      "name": "python"
    }
  },
  "cells": [
    {
      "cell_type": "code",
      "metadata": {
        "id": "0mrZNPWJLFf3"
      },
      "source": [
        "import tensorflow as tf     # 텐서플로우 모델을불러옴\n",
        "import numpy as np\n",
        "\n",
        "from tensorflow.keras.models import Sequential      # 층을 구성하겠다.\n",
        "from tensorflow.keras.layers import Dense       # 층에 대한 노드 갯수를 지정\n",
        "from tensorflow.keras.optimizers import SGD     # 최적화함수에 대하여 설정\n",
        "from tensorflow.keras.losses import mse         # 로스 지정"
      ],
      "execution_count": 59,
      "outputs": []
    },
    {
      "cell_type": "code",
      "metadata": {
        "colab": {
          "base_uri": "https://localhost:8080/"
        },
        "id": "mKFHOX8cZLvJ",
        "outputId": "fd5cc88c-584d-4da2-ddf3-bd1c94835d26"
      },
      "source": [
        "tf.random.set_seed(777)     # 시드를 설정\n",
        "\n",
        "# 데이터준비\n",
        "data = np.array([[0, 0], [1, 0], [0, 1], [1, 1]])\n",
        "label = np.array([[0], [1], [1], [1]])\n",
        "\n",
        "np.shape(data)"
      ],
      "execution_count": 51,
      "outputs": [
        {
          "output_type": "execute_result",
          "data": {
            "text/plain": [
              "(4, 2)"
            ]
          },
          "metadata": {},
          "execution_count": 51
        }
      ]
    },
    {
      "cell_type": "markdown",
      "metadata": {
        "id": "4m5OSr7cl0t6"
      },
      "source": [
        "## 인공신경망 모델\n",
        "- 배치사이즈: 오차계산하고 w, b값 갱신할 데이터 단위임\n",
        "- 현재 4개의 x값이 있으며 배치를 1로 하면 1번째데이터/4개의 모든데이터중, 2/4, 3/4, 4/4임\n",
        "- 배치를 3으로하면 1(1,2,3데이터)/4,  2(4번째데이터)/4임\n",
        "- 배치 사이즈는 사용자가 정의하지 않아도 됨(optimizer에서 배치를 자동으로 결정함)\n",
        "- epochs: 전체데이터를 몇번더 돌릴건지 (epochs할때마다 가중치가 갱신됨)"
      ]
    },
    {
      "cell_type": "markdown",
      "metadata": {
        "id": "PJiPOhXmmewc"
      },
      "source": [
        "## Dense 1개"
      ]
    },
    {
      "cell_type": "code",
      "metadata": {
        "colab": {
          "base_uri": "https://localhost:8080/"
        },
        "id": "mRWiTv0og_aE",
        "outputId": "76d00d7b-b5b7-4ed3-da27-481ded841438"
      },
      "source": [
        "# 모델 구성하기: Dense 1개\n",
        "model = Sequential()        # tensorflow.keras.models.Sequential()\n",
        "model.add(Dense(1, input_shape = (2, ), activation = 'linear'))     # 활성화 함수 WX+b\n",
        "# input_shape 갯수를 정확히 입력해야함\n",
        "\n",
        "# 모델 준비하기\n",
        "model.compile(optimizer = SGD(), loss=mse, metrics=['acc'])     # List 형태로 평가지료를 전달합니다.\n",
        "\n",
        "# 학습시키기\n",
        "model.fit(data, label, epochs=2, batch_size=1)"
      ],
      "execution_count": 78,
      "outputs": [
        {
          "output_type": "stream",
          "name": "stdout",
          "text": [
            "Epoch 1/2\n",
            "4/4 [==============================] - 0s 3ms/step - loss: 4.5505 - acc: 0.2500\n",
            "Epoch 2/2\n",
            "4/4 [==============================] - 0s 2ms/step - loss: 3.6014 - acc: 0.2500\n"
          ]
        },
        {
          "output_type": "execute_result",
          "data": {
            "text/plain": [
              "<keras.callbacks.History at 0x7f6b06403fd0>"
            ]
          },
          "metadata": {},
          "execution_count": 78
        }
      ]
    },
    {
      "cell_type": "code",
      "metadata": {
        "colab": {
          "base_uri": "https://localhost:8080/"
        },
        "id": "deD4fC_-kErB",
        "outputId": "25bf2270-4cee-42b9-c5f1-1a3143b95f7a"
      },
      "source": [
        "model.summary()\n",
        "# Param의 갯수는 노드에서 나가는 선의 갯수\n",
        "# input의 x값이 2개임으로 w1, w2, b 3개의 노드가 있어 Param갯수가 3임\n",
        "\n",
        "# Param공식 input갯수 * dense수 + b\n",
        "# Param: 노드(값을가지고 있음)에서 나가는 선의 갯수\n",
        "# 현재는 노드가 x1, x2, 1(바이어스항)\n",
        "# 여기에 계산되는 가중치가 Param의 갯수 -> w1, w2, b\n",
        "# w는 같은 배열에 넣고 b는 한개의 항으로 제공"
      ],
      "execution_count": 79,
      "outputs": [
        {
          "output_type": "stream",
          "name": "stdout",
          "text": [
            "Model: \"sequential_16\"\n",
            "_________________________________________________________________\n",
            "Layer (type)                 Output Shape              Param #   \n",
            "=================================================================\n",
            "dense_17 (Dense)             (None, 1)                 3         \n",
            "=================================================================\n",
            "Total params: 3\n",
            "Trainable params: 3\n",
            "Non-trainable params: 0\n",
            "_________________________________________________________________\n"
          ]
        }
      ]
    },
    {
      "cell_type": "code",
      "metadata": {
        "colab": {
          "base_uri": "https://localhost:8080/"
        },
        "id": "gXS46cDVmw_-",
        "outputId": "56445f3d-5cdc-437f-88fd-9fe21e245fda"
      },
      "source": [
        "paramValue=model.get_weights()  # Param갯수만큼 출력됨. [w1, w2], [b]\n",
        "print(paramValue)"
      ],
      "execution_count": 80,
      "outputs": [
        {
          "output_type": "stream",
          "name": "stdout",
          "text": [
            "[array([[-0.8387567],\n",
            "       [-1.0032946]], dtype=float32), array([0.26871508], dtype=float32)]\n"
          ]
        }
      ]
    },
    {
      "cell_type": "code",
      "metadata": {
        "colab": {
          "base_uri": "https://localhost:8080/"
        },
        "id": "c6h-ti7CnDVc",
        "outputId": "3c042939-25ca-4360-8674-e490d59531cd"
      },
      "source": [
        "# 직접 예측값 계산해보기\n",
        "x1=data[:,0] ; x2=data[:,1]\n",
        "w1=paramValue[0][0] ; w2=paramValue[0][1]; b=paramValue[1]\n",
        "y_pred=x1*w1+x2*w2+b\n",
        "y_pred"
      ],
      "execution_count": 81,
      "outputs": [
        {
          "output_type": "execute_result",
          "data": {
            "text/plain": [
              "array([ 0.26871508, -0.5700416 , -0.7345795 , -1.57333618])"
            ]
          },
          "metadata": {},
          "execution_count": 81
        }
      ]
    },
    {
      "cell_type": "code",
      "metadata": {
        "colab": {
          "base_uri": "https://localhost:8080/"
        },
        "id": "QAfFaw86awg7",
        "outputId": "8ea983a7-6067-4547-fd1e-9c8202b85c1d"
      },
      "source": [
        "# 모델 가중치 확인하기\n",
        "# x1과 x2의 자료를 갖고있으니까 x1의 w1, x2의 w2, b한개\n",
        "# [w1, w3], b\n",
        "data[:,0]\n",
        "\n",
        "we=model.get_weights()     # 모델 가중치 확인하기\n",
        "w1=we[0][0]    # x1의 w1\n",
        "w2=we[0][1]    # x2의 w2\n",
        "b=we[1]    # b\n",
        "\n",
        "y_pred=data[:,0]*w1+data[:,1]*w2+b\n",
        "y_pred"
      ],
      "execution_count": 72,
      "outputs": [
        {
          "output_type": "execute_result",
          "data": {
            "text/plain": [
              "array([0.74254316, 0.34471753, 0.40732965, 0.00950402])"
            ]
          },
          "metadata": {},
          "execution_count": 72
        }
      ]
    },
    {
      "cell_type": "code",
      "metadata": {
        "colab": {
          "base_uri": "https://localhost:8080/"
        },
        "id": "VIrViRfMc4vY",
        "outputId": "367069bf-d453-4b38-ea66-415e8860ff1f"
      },
      "source": [
        "# 텐서제공 예측값 계산하기\n",
        "# evaluate(): 평가를 진행\n",
        "model.evaluate(data, label)\n",
        "\n",
        "# predict(): 예측값을 계산\n",
        "preds = model.predict(data)\n",
        "for a, b in zip(preds, label):\n",
        "    print(f\"예측값 {a} - 정답 {b}\")"
      ],
      "execution_count": 82,
      "outputs": [
        {
          "output_type": "stream",
          "name": "stdout",
          "text": [
            "WARNING:tensorflow:5 out of the last 7 calls to <function Model.make_test_function.<locals>.test_function at 0x7f6b06417830> triggered tf.function retracing. Tracing is expensive and the excessive number of tracings could be due to (1) creating @tf.function repeatedly in a loop, (2) passing tensors with different shapes, (3) passing Python objects instead of tensors. For (1), please define your @tf.function outside of the loop. For (2), @tf.function has experimental_relax_shapes=True option that relaxes argument shapes that can avoid unnecessary retracing. For (3), please refer to https://www.tensorflow.org/guide/function#controlling_retracing and https://www.tensorflow.org/api_docs/python/tf/function for  more details.\n",
            "1/1 [==============================] - 0s 94ms/step - loss: 3.0420 - acc: 0.2500\n",
            "예측값 [0.26871508] - 정답 [0]\n",
            "예측값 [-0.5700416] - 정답 [1]\n",
            "예측값 [-0.7345795] - 정답 [1]\n",
            "예측값 [-1.5733361] - 정답 [1]\n"
          ]
        }
      ]
    },
    {
      "cell_type": "markdown",
      "metadata": {
        "id": "ocgIq6Jknl-a"
      },
      "source": [
        "## Dense 2개"
      ]
    },
    {
      "cell_type": "code",
      "metadata": {
        "colab": {
          "base_uri": "https://localhost:8080/"
        },
        "id": "ZdWVgS6MgpJG",
        "outputId": "f6ac9ae3-3bc9-4d9a-9a43-249181db4414"
      },
      "source": [
        "# 모델 구성하기: Dense 2개\n",
        "model = Sequential()        # tensorflow.keras.models.Sequential()\n",
        "model.add(Dense(2, input_shape = (2, ), activation = 'linear'))     # 활성화 함수 WX+b\n",
        "# input_shape 갯수를 정확히 입력해야함\n",
        "\n",
        "# 모델 준비하기\n",
        "model.compile(optimizer = SGD(), loss=mse, metrics=['acc'])     # List 형태로 평가지료를 전달합니다.\n",
        "\n",
        "# 학습시키기\n",
        "model.fit(data, label, epochs=2, batch_size=1)\n",
        "\n",
        "model.summary()\n",
        "# Param의 갯수는 노드에서 나가는 선의 갯수\n",
        "# input의 x값이 2개임으로 w1, w2, b 3개의 노드가 있어 Param갯수가 3임\n",
        "# 이러한 3개의 파람을 갖는 세트가 2개있음.(Dense=2) 총 6개임"
      ],
      "execution_count": 83,
      "outputs": [
        {
          "output_type": "stream",
          "name": "stdout",
          "text": [
            "Epoch 1/2\n",
            "4/4 [==============================] - 0s 3ms/step - loss: 2.4744 - acc: 1.0000\n",
            "Epoch 2/2\n",
            "4/4 [==============================] - 0s 2ms/step - loss: 2.2037 - acc: 1.0000\n",
            "Model: \"sequential_17\"\n",
            "_________________________________________________________________\n",
            "Layer (type)                 Output Shape              Param #   \n",
            "=================================================================\n",
            "dense_18 (Dense)             (None, 2)                 6         \n",
            "=================================================================\n",
            "Total params: 6\n",
            "Trainable params: 6\n",
            "Non-trainable params: 0\n",
            "_________________________________________________________________\n"
          ]
        }
      ]
    },
    {
      "cell_type": "code",
      "metadata": {
        "colab": {
          "base_uri": "https://localhost:8080/"
        },
        "id": "3y6fBEO5pqJh",
        "outputId": "3ef4291d-51f1-4c5f-e7c8-d628a15e48b6"
      },
      "source": [
        "paramValue=model.get_weights()  # Param갯수만큼 출력됨.   [[w1,w2],[w1,w2]],[b,b]  ==> [[Dense1의 w1,w2],[Dense2의 w1,w2]],[Dense1의b,Dense2의b]\n",
        "print(paramValue)"
      ],
      "execution_count": 84,
      "outputs": [
        {
          "output_type": "stream",
          "name": "stdout",
          "text": [
            "[array([[-0.8282555 , -0.5131165 ],\n",
            "       [-0.7138059 ,  0.01110243]], dtype=float32), array([0.1220188 , 0.08006375], dtype=float32)]\n"
          ]
        }
      ]
    },
    {
      "cell_type": "code",
      "metadata": {
        "colab": {
          "base_uri": "https://localhost:8080/"
        },
        "id": "yvU_wVKfn94B",
        "outputId": "198dbef9-ce04-490d-efcf-b66113efbaba"
      },
      "source": [
        "Dense_1_w=paramValue[0][0] \n",
        "Dense_2_w=paramValue[0][1]\n",
        "Dense_1_b=paramValue[1][0]\n",
        "Dense_2_b=paramValue[1][1]\n",
        "\n",
        "y_pred_1=x1*Dense_1_w[0] * x2 *Dense_1_w[1] + Dense_1_b\n",
        "y_pred_2=x1*Dense_2_w[0] * x2 *Dense_2_w[1] + Dense_2_b\n",
        "\n",
        "print(y_pred_1,y_pred_2)  # 강의할때는 y_pred_1이 아니라 y_pred로 해서 결과가 다르게 나온것임"
      ],
      "execution_count": 85,
      "outputs": [
        {
          "output_type": "stream",
          "name": "stdout",
          "text": [
            "[0.1220188  0.1220188  0.1220188  0.54701033] [0.08006375 0.08006375 0.08006375 0.07213877]\n"
          ]
        }
      ]
    },
    {
      "cell_type": "code",
      "metadata": {
        "colab": {
          "base_uri": "https://localhost:8080/"
        },
        "id": "ENk38TzD-M0F",
        "outputId": "f2d0c02b-f193-4317-946a-3578109bc7ef"
      },
      "source": [
        "## 텐서제공 예측값 계산하기\n",
        "\n",
        "# predict(): 예측을 진행합니다.\n",
        "preds = model.predict(data)\n",
        "for a, b in zip(preds, label):\n",
        "    print(f\"예측값 {a} - 정답 {b}\")"
      ],
      "execution_count": 86,
      "outputs": [
        {
          "output_type": "stream",
          "name": "stdout",
          "text": [
            "WARNING:tensorflow:5 out of the last 7 calls to <function Model.make_predict_function.<locals>.predict_function at 0x7f6b064d9050> triggered tf.function retracing. Tracing is expensive and the excessive number of tracings could be due to (1) creating @tf.function repeatedly in a loop, (2) passing tensors with different shapes, (3) passing Python objects instead of tensors. For (1), please define your @tf.function outside of the loop. For (2), @tf.function has experimental_relax_shapes=True option that relaxes argument shapes that can avoid unnecessary retracing. For (3), please refer to https://www.tensorflow.org/guide/function#controlling_retracing and https://www.tensorflow.org/api_docs/python/tf/function for  more details.\n",
            "예측값 [0.1220188  0.08006375] - 정답 [0]\n",
            "예측값 [-0.70623666 -0.43305272] - 정답 [1]\n",
            "예측값 [-0.5917871   0.09116618] - 정답 [1]\n",
            "예측값 [-1.4200425  -0.42195028] - 정답 [1]\n"
          ]
        }
      ]
    },
    {
      "cell_type": "markdown",
      "metadata": {
        "id": "75S0M32w_fuX"
      },
      "source": [
        "## 활성화 함수\n",
        " - Dense층의 결과를 계산하는 공식\n",
        " - 중간 Dense는 다음 Dense에 넘어가기에 적합한 값을 의미(Relu라는 함수를 사용)\n",
        " - 최종 Dense는 원하는 y값을 의미\n",
        "  - y값은 무한대의 숫자인 선형회귀이거나->결과는 무한대의 숫자중 1개 (활성화함수 기재안함)\n",
        "  - 0또는 1값중 한개인 이항분류이거나->결과1은 0또는1의한개의비트(활성화함수 시그모이드), 결과2는[1,0[0,1]의 두개의 비트로 표현하는 원핫인코딩(활성화함수 소프트맥스)\n",
        "  - 여러개의 다항분류이거나->무조건 분류갯수만큼 원핫인코딩(활성화함수 소프트맥스)"
      ]
    },
    {
      "cell_type": "markdown",
      "metadata": {
        "id": "DyMv0s-U_iDt"
      },
      "source": [
        "- 현재 linear 함수를 사용했기 때문에 wx+b값이 되면서 결과값이 무한대의 숫자값중 한개가 나옴\n",
        "- linear를 sigmoid함수를 사용하면 0또는1의 사이값만 출력됨\n",
        "\n",
        "\n",
        "## \n",
        "활성화함수 (dense층의 결과를 계산하는 공식)\n",
        "\n",
        "\n",
        "중간Dense는 다음Dense에 넘어가기에 적합한 값을 의미 (Relu 라는 함수를 사용)\n",
        "\n",
        "최종Dense는 원하는 y값을 의미\n",
        "  y값은 무한대의 숫자인 선형회귀 이거나, 결과는 무한대의 숫자중 1개  (활성화함수 기재안함)\n",
        "        0또는1값중 한개인 이항분류이거나\n",
        "                                        결과1은 0또는1의 한개의 비트  (활성화함수 시그모이드)\n",
        "                                        결과2는 0값을[1,0] 1값을[0,1]의 두개의 비트로 표현하는 원핫인코딩(활성화함수 소프트맥스)\n",
        "        \n",
        "        여러개의 다항분류이거나  무조건 분류갯수만큼 원핫인코딩 (활성화함수 softmax)\n",
        "            예) 개,고양이,사자,사슴  4개의분류가 있으면 개는1, 고양이는2, 사자는3,사슴은4\n",
        "                개는[1,0,0,0]   고양이는[0,1,0,0,]  사자는 [0,0,1,0]  사슴은 [0,0,0,1]"
      ]
    },
    {
      "cell_type": "markdown",
      "metadata": {
        "id": "-1Bu4oaf_ogq"
      },
      "source": [
        "## 활성화함수 linear함수"
      ]
    },
    {
      "cell_type": "code",
      "metadata": {
        "colab": {
          "base_uri": "https://localhost:8080/"
        },
        "id": "kwAqxiTI_IWC",
        "outputId": "e1200e3f-e23f-4645-defd-469a4de543ca"
      },
      "source": [
        "data = np.array([[5, 20], [3, 0], [8, 1], [1, 1]])  # 입력데이터셋의 형태는 신경망의 input값에 사용됨. 입력의 갯수와 신경망의 input의갯수가 다르면 error\n",
        "label = np.array([[0], [1], [1], [1]]) \n",
        "\n",
        "model = Sequential() \n",
        "model.add(Dense(1, input_shape = (2,), activation = 'linear')) \n",
        "#model.add(Dense(1, input_shape = (2,))) # activation을 사용하지 않아도 선형식이 됨. 단 w,b의 랜덤값이 다르게 나옴\n",
        "\n",
        "model.compile(optimizer = SGD(), loss = mse, metrics = ['acc']) \n",
        "model.fit(data, label, epochs = 2,batch_size=1,verbose=0) # verbose=0 실행화면 안나옴"
      ],
      "execution_count": 87,
      "outputs": [
        {
          "output_type": "execute_result",
          "data": {
            "text/plain": [
              "<keras.callbacks.History at 0x7f6afe96eb90>"
            ]
          },
          "metadata": {},
          "execution_count": 87
        }
      ]
    },
    {
      "cell_type": "code",
      "metadata": {
        "colab": {
          "base_uri": "https://localhost:8080/"
        },
        "id": "m73bjgZd_sz6",
        "outputId": "43126f55-614a-4e6b-ecf5-3b945c620ceb"
      },
      "source": [
        "# linear 함수이기때문에 무한대의 숫자값이 나옴\n",
        "preds = model.predict(data)\n",
        "for a, b in zip(preds, label):\n",
        "    print(f\"예측값 {a} - 정답 {b}\")"
      ],
      "execution_count": 88,
      "outputs": [
        {
          "output_type": "stream",
          "name": "stdout",
          "text": [
            "WARNING:tensorflow:6 out of the last 8 calls to <function Model.make_predict_function.<locals>.predict_function at 0x7f6b0eac1560> triggered tf.function retracing. Tracing is expensive and the excessive number of tracings could be due to (1) creating @tf.function repeatedly in a loop, (2) passing tensors with different shapes, (3) passing Python objects instead of tensors. For (1), please define your @tf.function outside of the loop. For (2), @tf.function has experimental_relax_shapes=True option that relaxes argument shapes that can avoid unnecessary retracing. For (3), please refer to https://www.tensorflow.org/guide/function#controlling_retracing and https://www.tensorflow.org/api_docs/python/tf/function for  more details.\n",
            "예측값 [881.87164] - 정답 [0]\n",
            "예측값 [-39.71502] - 정답 [1]\n",
            "예측값 [-56.95084] - 정답 [1]\n",
            "예측값 [33.499382] - 정답 [1]\n"
          ]
        }
      ]
    },
    {
      "cell_type": "code",
      "metadata": {
        "colab": {
          "base_uri": "https://localhost:8080/"
        },
        "id": "8dUgzhMz_ueB",
        "outputId": "542fd4e4-ff55-4fc7-8ec5-825a841e1723"
      },
      "source": [
        "paramValue=model.get_weights()  # Param갯수만큼 출력됨.   [[w1,w2],[w1,w2]],[b,b]  ==> [[Dense1의 w1,w2],[Dense2의 w1,w2]],[Dense1의b,Dense2의b]\n",
        "\n",
        "# 직접 예측값 계산해보기\n",
        "x1=data[:,0] ; x2=data[:,1]\n",
        "w1=paramValue[0][0] ; w2=paramValue[0][1]; b=paramValue[1]\n",
        "y_pred=x1*w1+x2*w2+b\n",
        "y_pred"
      ],
      "execution_count": 89,
      "outputs": [
        {
          "output_type": "execute_result",
          "data": {
            "text/plain": [
              "array([881.87164241, -39.71501797, -56.9508397 ,  33.49938136])"
            ]
          },
          "metadata": {},
          "execution_count": 89
        }
      ]
    },
    {
      "cell_type": "markdown",
      "metadata": {
        "id": "52CjvvPZ_wpC"
      },
      "source": [
        "## 활성화 함수 0과 1값 사이만 나오게 하는 sigmoid"
      ]
    },
    {
      "cell_type": "code",
      "metadata": {
        "colab": {
          "base_uri": "https://localhost:8080/"
        },
        "id": "C0WO7a3I_vxc",
        "outputId": "181fbfcd-4596-4337-f786-21da8a7b042f"
      },
      "source": [
        "data = np.array([[5, 20], [3, 0], [8, 1], [1, 1]])  # 입력데이터셋의 형태는 신경망의 input값에 사용됨. 입력의 갯수와 신경망의 input의갯수가 다르면 error\n",
        "label = np.array([[0], [1], [1], [1]]) \n",
        "\n",
        "model = Sequential() \n",
        "model.add(Dense(1, input_shape = (2,), activation = 'sigmoid')) \n",
        "#model.add(Dense(1, input_shape = (2,))) # activation을 사용하지 않아도 선형식이 됨. 단 w,b의 랜덤값이 다르게 나옴\n",
        "\n",
        "model.compile(optimizer = SGD(), loss = mse, metrics = ['acc']) \n",
        "model.fit(data, label, epochs = 2,batch_size=1,verbose=0) # verbose=0 실행화면 안나옴"
      ],
      "execution_count": 90,
      "outputs": [
        {
          "output_type": "execute_result",
          "data": {
            "text/plain": [
              "<keras.callbacks.History at 0x7f6b067d1450>"
            ]
          },
          "metadata": {},
          "execution_count": 90
        }
      ]
    },
    {
      "cell_type": "code",
      "metadata": {
        "colab": {
          "base_uri": "https://localhost:8080/"
        },
        "id": "5vlWB_82_1GO",
        "outputId": "14cca190-f2cb-4d2b-9663-91e7e870214a"
      },
      "source": [
        "# sigmoid 함수이기때문에 0또는1 사이의 숫자값이 나옴\n",
        "preds = model.predict(data)\n",
        "for a, b in zip(preds, label):\n",
        "    print(f\"예측값 {a} - 정답 {b}\")"
      ],
      "execution_count": 91,
      "outputs": [
        {
          "output_type": "stream",
          "name": "stdout",
          "text": [
            "예측값 [1.] - 정답 [0]\n",
            "예측값 [0.97987187] - 정답 [1]\n",
            "예측값 [0.9999893] - 정답 [1]\n",
            "예측값 [0.9153701] - 정답 [1]\n"
          ]
        }
      ]
    },
    {
      "cell_type": "markdown",
      "metadata": {
        "id": "smGY7SHc_4Hr"
      },
      "source": [
        "## 활성화함수 softmax함수"
      ]
    },
    {
      "cell_type": "code",
      "metadata": {
        "colab": {
          "base_uri": "https://localhost:8080/"
        },
        "id": "xzDNUKsc_21v",
        "outputId": "22590473-9d47-41d5-9118-3a845112e8da"
      },
      "source": [
        "data = np.array([[5, 20], [3, 0], [8, 1], [1, 1]])  # 입력데이터셋의 형태는 신경망의 input값에 사용됨. 입력의 갯수와 신경망의 input의갯수가 다르면 error\n",
        "label = np.array([[0], [1], [1], [1]]) \n",
        "\n",
        "label_onehot = tf.keras.utils.to_categorical(label,num_classes=2) \n",
        "print(label_onehot)"
      ],
      "execution_count": 92,
      "outputs": [
        {
          "output_type": "stream",
          "name": "stdout",
          "text": [
            "[[1. 0.]\n",
            " [0. 1.]\n",
            " [0. 1.]\n",
            " [0. 1.]]\n"
          ]
        }
      ]
    },
    {
      "cell_type": "code",
      "metadata": {
        "colab": {
          "base_uri": "https://localhost:8080/"
        },
        "id": "2mAj533s_-Vx",
        "outputId": "130f2802-3ffd-4957-b473-b2ae44437809"
      },
      "source": [
        "model = Sequential() \n",
        "model.add(Dense(2, input_shape = (2,), activation = 'softmax')) \n",
        "\n",
        "model.compile(optimizer = SGD(), loss = mse, metrics = ['acc']) \n",
        "model.fit(data, label_onehot, epochs = 2,batch_size=1,verbose=0) # verbose=0 실행화면 안나옴"
      ],
      "execution_count": 93,
      "outputs": [
        {
          "output_type": "execute_result",
          "data": {
            "text/plain": [
              "<keras.callbacks.History at 0x7f6b066a9490>"
            ]
          },
          "metadata": {},
          "execution_count": 93
        }
      ]
    },
    {
      "cell_type": "code",
      "metadata": {
        "colab": {
          "base_uri": "https://localhost:8080/"
        },
        "id": "Ux8D8Su___oH",
        "outputId": "0772b29d-be8b-4c22-d92b-c987597899cf"
      },
      "source": [
        "# sigmoid 함수이기때문에 0또는1 사이의 숫자값이 나옴\n",
        "preds = model.predict(data)\n",
        "for a, b in zip(preds, label_onehot):\n",
        "    print(f\"예측값 {a} - 정답 {b}\")"
      ],
      "execution_count": 94,
      "outputs": [
        {
          "output_type": "stream",
          "name": "stdout",
          "text": [
            "예측값 [1.0000000e+00 4.9823775e-08] - 정답 [1. 0.]\n",
            "예측값 [0.3558003  0.64419967] - 정답 [0. 1.]\n",
            "예측값 [0.34413174 0.65586823] - 정답 [0. 1.]\n",
            "예측값 [0.66190684 0.3380932 ] - 정답 [0. 1.]\n"
          ]
        }
      ]
    },
    {
      "cell_type": "markdown",
      "metadata": {
        "id": "-z9CKxBfADky"
      },
      "source": [
        "# 정리\n",
        "- 인공신경망은 사용자가 x값의 input갯수와, 출력y값의 갯수\n",
        "y값의 활성화함수를 신경써야함. \n",
        "- model.add 에 dense를 구성하는 노드갯수를 설정하여 Param갯수를 정할수 있음\n",
        "- 최종 y값에 따라 활성화함수를 다르게 지정하여야함.\n",
        "- 활성화함수는 오차계산법도 다르게 지정하여야함.\n",
        "- 일반적으로\n",
        "    - 선형회귀는 mse, mae \n",
        "    - 시그모이드는 binary_crossentropy \n",
        "    - 소프트맥스는 categorical_crossentropy \n",
        "       - 단 onehot인코딩 안한상태에서 원핫인코딩하면서 오차 계산해주는 식 사용가능 SparseCategoricalCrossentropy\n",
        "\n",
        "\n",
        "\n",
        "- model.add가 많을수록 수많은 weight가 생성됨.\n",
        "- weight가 많으면 많을수록 훈련데이터에 잘 맞추어서 overffing(훈련만 잘맞고,검증은 잘 안맞음) 될수 있음.\n",
        "- 이 오버피팅을 없애는방법중 하나로 dense중간층에 dropout(비율)을 사용하기도함"
      ]
    },
    {
      "cell_type": "code",
      "metadata": {
        "id": "t2DI1M1MAA5H"
      },
      "source": [
        ""
      ],
      "execution_count": null,
      "outputs": []
    }
  ]
}