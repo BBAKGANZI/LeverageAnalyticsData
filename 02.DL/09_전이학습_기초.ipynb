{
  "nbformat": 4,
  "nbformat_minor": 0,
  "metadata": {
    "colab": {
      "name": "09.전이학습 기초.ipynb",
      "provenance": [],
      "collapsed_sections": []
    },
    "kernelspec": {
      "name": "python3",
      "display_name": "Python 3"
    },
    "language_info": {
      "name": "python"
    }
  },
  "cells": [
    {
      "cell_type": "code",
      "metadata": {
        "colab": {
          "base_uri": "https://localhost:8080/"
        },
        "id": "P4q1YXCRA1T9",
        "outputId": "5fba46c2-4624-41de-95ed-0ba4523cdbf1"
      },
      "source": [
        "from google.colab import drive\n",
        "drive.mount('/content/mnt')"
      ],
      "execution_count": 1,
      "outputs": [
        {
          "output_type": "stream",
          "name": "stdout",
          "text": [
            "Mounted at /content/mnt\n"
          ]
        }
      ]
    },
    {
      "cell_type": "code",
      "metadata": {
        "colab": {
          "base_uri": "https://localhost:8080/"
        },
        "id": "nJSO5_2sBSYD",
        "outputId": "e60bf2bd-2ee6-4b93-9d0b-cb3971c06233"
      },
      "source": [
        "from tensorflow.keras.preprocessing.image import load_img\n",
        "from tensorflow.keras.preprocessing.image import img_to_array\n",
        "from tensorflow.keras.applications.vgg16 import preprocess_input\n",
        "from tensorflow.keras.applications.vgg16 import decode_predictions\n",
        "from tensorflow.keras.applications.vgg16 import VGG16\n",
        "\n",
        "# 사전 학습된 모델 불러오기\n",
        "# input_tensor = Input(shape=(150,150,3))\n",
        "\n",
        "\n",
        "# include_top : 신경망 FC 층 존재 유무 ( False : 제거 / True : 유지 )\n",
        "# weights : 가중치 모델 지정 ( None : 초기화된 가중치, 'imagenet' : 사전 학습된 가중치 )\n",
        "# input_tensor : 입력 텐서 크기 ( Input(shape = (w, h, ch))\n",
        "\n",
        "#model = VGG16(weights='imagenet', include_top=False, input_tensor = input_tensor)  \n",
        "\n",
        "model = VGG16()"
      ],
      "execution_count": 4,
      "outputs": [
        {
          "output_type": "stream",
          "name": "stdout",
          "text": [
            "Downloading data from https://storage.googleapis.com/tensorflow/keras-applications/vgg16/vgg16_weights_tf_dim_ordering_tf_kernels.h5\n",
            "553467904/553467096 [==============================] - 4s 0us/step\n",
            "553476096/553467096 [==============================] - 4s 0us/step\n"
          ]
        }
      ]
    },
    {
      "cell_type": "code",
      "metadata": {
        "colab": {
          "base_uri": "https://localhost:8080/"
        },
        "id": "PPPAtbvgHoZl",
        "outputId": "9ffd80de-1062-4164-c300-b5bd3c93af91"
      },
      "source": [
        "#fileName=input image \n",
        "import numpy as np\n",
        "fileName = '자동차.jpg'\n",
        "image = load_img(fileName, target_size=(224, 224))      # 텐서에서 제공하는 이미지는 불르는 명령어, 리사이즈\n",
        "image = img_to_array(image)     # 어레이\n",
        "print(np.shape(image))\n",
        "image = image.reshape(1, image.shape[0], image.shape[1], image.shape[2])        # 1, 224 224 3"
      ],
      "execution_count": 6,
      "outputs": [
        {
          "output_type": "stream",
          "name": "stdout",
          "text": [
            "(224, 224, 3)\n"
          ]
        }
      ]
    },
    {
      "cell_type": "code",
      "metadata": {
        "colab": {
          "base_uri": "https://localhost:8080/"
        },
        "id": "-ekSJNOjIL7L",
        "outputId": "36b683d7-fad8-4f3a-ce02-d5664a21a601"
      },
      "source": [
        "image = preprocess_input(image)     # vgg16 제공자료 전처리(예: 스케일링, 흑백변경)\n",
        "yhat = model.predict(image)  #yhat 카테고리가 1000개임.\n",
        "print(np.shape(yhat))\n",
        "print(len(yhat[0]))"
      ],
      "execution_count": 10,
      "outputs": [
        {
          "output_type": "stream",
          "name": "stdout",
          "text": [
            "(1, 1000)\n",
            "1000\n"
          ]
        }
      ]
    },
    {
      "cell_type": "code",
      "metadata": {
        "colab": {
          "base_uri": "https://localhost:8080/"
        },
        "id": "YIysSkdgJW45",
        "outputId": "08bddc87-d378-464e-c532-a3dadd0bd2be"
      },
      "source": [
        "label = decode_predictions(yhat)        # class_names로 변경\n",
        "label\n",
        "# class_name뒤에 숫자는 일치율(1중에서 얼마나 가중치가 있는가)\n",
        "# 상위 5개"
      ],
      "execution_count": 11,
      "outputs": [
        {
          "output_type": "stream",
          "name": "stdout",
          "text": [
            "Downloading data from https://storage.googleapis.com/download.tensorflow.org/data/imagenet_class_index.json\n",
            "40960/35363 [==================================] - 0s 0us/step\n",
            "49152/35363 [=========================================] - 0s 0us/step\n"
          ]
        },
        {
          "output_type": "execute_result",
          "data": {
            "text/plain": [
              "[[('n03594945', 'jeep', 0.953366),\n",
              "  ('n04252225', 'snowplow', 0.020393671),\n",
              "  ('n04465501', 'tractor', 0.015932914),\n",
              "  ('n03478589', 'half_track', 0.005118348),\n",
              "  ('n03777568', 'Model_T', 0.0043086344)]]"
            ]
          },
          "metadata": {},
          "execution_count": 11
        }
      ]
    },
    {
      "cell_type": "code",
      "metadata": {
        "colab": {
          "base_uri": "https://localhost:8080/"
        },
        "id": "zdgvVj4LIuFv",
        "outputId": "1fb383c6-8707-42e4-808b-b6c84a68cf99"
      },
      "source": [
        "label = label[0][0]\n",
        "print('%s (%.2f%%)'%(label[1], label[2]*100))"
      ],
      "execution_count": 12,
      "outputs": [
        {
          "output_type": "stream",
          "name": "stdout",
          "text": [
            "jeep (95.34%)\n"
          ]
        }
      ]
    },
    {
      "cell_type": "code",
      "metadata": {
        "colab": {
          "base_uri": "https://localhost:8080/"
        },
        "id": "3aW6JoMLJ-IK",
        "outputId": "59a7c8d0-0ab8-4f9b-f6b0-1a10a620e425"
      },
      "source": [
        "# for를 넣어서 자료를 여러개 인지\n",
        "\n",
        "fileList=['자동차.jpg', '코끼리.jpg']\n",
        "\n",
        "for fileName in fileList:\n",
        "    image = load_img(fileName, target_size=(224, 224))      # 텐서에서 제공하는 이미지는 불르는 명령어, 리사이즈\n",
        "    image = img_to_array(image)     # 어레이\n",
        "    image = image.reshape(1, image.shape[0], image.shape[1], image.shape[2])        # 1, 224 224 3\n",
        "    yhat = model.predict(image)  #yhat \n",
        "    label = decode_predictions(yhat)\n",
        "    label = label[0][0]\n",
        "    print('%s (%.2f%%)'%(label[1], label[2]*100))"
      ],
      "execution_count": 13,
      "outputs": [
        {
          "output_type": "stream",
          "name": "stdout",
          "text": [
            "jeep (92.60%)\n",
            "African_elephant (29.17%)\n"
          ]
        }
      ]
    },
    {
      "cell_type": "code",
      "metadata": {
        "id": "BRH5CxGPLsjn"
      },
      "source": [
        ""
      ],
      "execution_count": null,
      "outputs": []
    }
  ]
}